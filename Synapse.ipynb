{
  "nbformat": 4,
  "nbformat_minor": 0,
  "metadata": {
    "colab": {
      "provenance": [],
      "authorship_tag": "ABX9TyOq7VAhGsULzd8XoVw9tl5F",
      "include_colab_link": true
    },
    "kernelspec": {
      "name": "python3",
      "display_name": "Python 3"
    },
    "language_info": {
      "name": "python"
    }
  },
  "cells": [
    {
      "cell_type": "markdown",
      "metadata": {
        "id": "view-in-github",
        "colab_type": "text"
      },
      "source": [
        "<a href=\"https://colab.research.google.com/github/dtabuena/EphysLib/blob/main/Synapse.ipynb\" target=\"_parent\"><img src=\"https://colab.research.google.com/assets/colab-badge.svg\" alt=\"Open In Colab\"/></a>"
      ]
    },
    {
      "cell_type": "code",
      "execution_count": null,
      "metadata": {
        "id": "N5Bsqf_jeQjZ"
      },
      "outputs": [],
      "source": [
        "'Get Standard Modules'\n",
        "\n",
        "import pandas as pd\n",
        "import numpy as np\n",
        "import matplotlib\n",
        "import matplotlib.pyplot as plt\n",
        "import scipy\n",
        "from scipy import stats\n",
        "import os\n",
        "from scipy.signal import butter,filtfilt\n",
        "from tqdm import tqdm\n",
        "import warnings\n",
        "from IPython.display import clear_output\n",
        "from datetime import datetime\n",
        "import sys\n",
        "import warnings\n",
        "import shutil\n",
        "from google.colab import files\n",
        "warnings.filterwarnings('ignore')\n",
        "np.set_printoptions(threshold=sys.maxsize)\n",
        "clear_output(wait=False)\n",
        "\n",
        "\n",
        "\n",
        "!pip install openpyxl\n",
        "!pip install XlsxWriter\n",
        "\n",
        "\n",
        "'''Get Repositories'''\n",
        "try: shutil.rmtree('/content/EphysLib')\n",
        "except: None\n",
        "\n",
        "\"run dtabuena's ephys notebooks\"\n",
        "!git clone https://github.com/dtabuena/EphysLib\n",
        "to_import = [\n",
        "            'ABF_Quality_Control.ipynb',\n",
        "            'Basic_Ephys.ipynb',\n",
        "            'Simple_ABF_tools.ipynb',\n",
        "            'fun_math.ipynb',\n",
        "            'importing_abfs_from_dropbox.ipynb',\n",
        "            'QC_recoding_dataframe.ipynb',\n",
        "            'Analyzers/input_resistance_analyzer.ipynb',\n",
        "            'Analyzers/gain_analyzer.ipynb',\n",
        "            'Analyzers/latencey_analyzer.ipynb',\n",
        "            'Analyzers/IV_analyzer.ipynb',\n",
        "            'Analyzers/Vm_analyzer.ipynb',\n",
        "            'Analyzers/membrane_analyzer.ipynb',\n",
        "            'Analyzers/rheobase_analyzer.ipynb',\n",
        "            'Ephys_wrapper.ipynb',\n",
        "            ]\n",
        "for i in to_import:\n",
        "    f = '/content/EphysLib/' + i\n",
        "    %run $f\n",
        "\n",
        "\n"
      ]
    },
    {
      "cell_type": "code",
      "source": [
        "##### Setup Protocol List\n",
        "VC_prot = ['VC - MemTest-10ms-160ms',\n",
        "           'VC - Multi IV - 150ms',]\n",
        "IC_prot = ['IC - Gain - D20pA',\n",
        "           'IC - Gain - D50pA',\n",
        "           'IC - Rheobase',\n",
        "           'IC - R input',\n",
        "           'IC - Latentcy 800pA-1s'\n",
        "           'VC - 3min GapFree',\n",
        "           'I0 - 3min GapFree']"
      ],
      "metadata": {
        "id": "FXsbn1kjej1a"
      },
      "execution_count": null,
      "outputs": []
    },
    {
      "cell_type": "code",
      "source": [
        "dataset = {'data_name': 'Today',\n",
        "           'data_source': \"https://www.dropbox.com/sh/wnbpd76u1v28qnz/AADD0BDu0BF81SAlN4Q6QxFea?dl=0\",\n",
        "           'file_naming_scheme': ['Rec_date','GenoType','Sex','Age','Slice_Num','Cell_num','Cell_Type'],\n",
        "           }\n",
        "           \n",
        "data_name = dataset['data_name']\n",
        "data_source = dataset['data_source']\n",
        "file_naming_scheme = dataset['file_naming_scheme']\n",
        "\n",
        "''' Gather and Catalog Source Data'''\n",
        "file_loc = get_drobox_folder(data_source, 'my_ephys_data_' + data_name)\n",
        "clear_output(wait=False)   \n",
        "abf_recordings_df, protocol_set = catalogue_recs(file_loc,file_naming_scheme)\n",
        "print(protocol_set)"
      ],
      "metadata": {
        "id": "7tcKwC6keh7r",
        "colab": {
          "base_uri": "https://localhost:8080/"
        },
        "outputId": "fdf68d88-2263-4d78-9d60-74abe6c1e22e"
      },
      "execution_count": null,
      "outputs": [
        {
          "output_type": "stream",
          "name": "stdout",
          "text": [
            "[]\n"
          ]
        }
      ]
    },
    {
      "cell_type": "code",
      "source": [
        "\n",
        "display(abf_recordings_df.columns)"
      ],
      "metadata": {
        "id": "6kmAyCTWXmqf",
        "outputId": "a246edd5-d2ec-4d08-9854-4985bbede0b3",
        "colab": {
          "base_uri": "https://localhost:8080/",
          "height": 86
        }
      },
      "execution_count": null,
      "outputs": [
        {
          "output_type": "display_data",
          "data": {
            "text/plain": [
              "Index(['Recording_name', 'cell_id', 'Rec_date', 'GenoType', 'Sex', 'Age',\n",
              "       'Slice_Num', 'Cell_num', 'Cell_Type', 'protocol', 'abf_timestamp',\n",
              "       'channelList'],\n",
              "      dtype='object')"
            ]
          },
          "metadata": {}
        }
      ]
    },
    {
      "cell_type": "code",
      "source": [
        "synapse = ['VC - 70mV - 3min GapFree', 'VC - 3min GapFree']\n",
        "for r in abf_recordings_df.index:\n",
        "    if abf_recordings_df.loc[r,'protocol'] in synapse:\n",
        "        print(r)"
      ],
      "metadata": {
        "id": "3BKxstYliDPv"
      },
      "execution_count": null,
      "outputs": []
    },
    {
      "cell_type": "code",
      "source": [
        "# \n",
        "# Fast_results = ephys_wrapper(dataset,VC_prot,IC_prot,strat_cols=[ 'Cell_Type'])"
      ],
      "metadata": {
        "id": "6rltd5IlXLen"
      },
      "execution_count": null,
      "outputs": []
    },
    {
      "cell_type": "code",
      "source": [
        "# strat_abfs_by_prot( 'reorg','/content/my_ephys_data_'+dataset['data_name'], f\"/content/{dataset['data_name']}_Recording_LookUp.csv\" )"
      ],
      "metadata": {
        "id": "Yz-C0kWgTubh",
        "outputId": "db69ee05-33f2-4d55-ac5c-3dcafb99ab46",
        "colab": {
          "base_uri": "https://localhost:8080/",
          "height": 17
        }
      },
      "execution_count": null,
      "outputs": [
        {
          "output_type": "display_data",
          "data": {
            "text/plain": [
              "<IPython.core.display.Javascript object>"
            ],
            "application/javascript": [
              "\n",
              "    async function download(id, filename, size) {\n",
              "      if (!google.colab.kernel.accessAllowed) {\n",
              "        return;\n",
              "      }\n",
              "      const div = document.createElement('div');\n",
              "      const label = document.createElement('label');\n",
              "      label.textContent = `Downloading \"${filename}\": `;\n",
              "      div.appendChild(label);\n",
              "      const progress = document.createElement('progress');\n",
              "      progress.max = size;\n",
              "      div.appendChild(progress);\n",
              "      document.body.appendChild(div);\n",
              "\n",
              "      const buffers = [];\n",
              "      let downloaded = 0;\n",
              "\n",
              "      const channel = await google.colab.kernel.comms.open(id);\n",
              "      // Send a message to notify the kernel that we're ready.\n",
              "      channel.send({})\n",
              "\n",
              "      for await (const message of channel.messages) {\n",
              "        // Send a message to notify the kernel that we're ready.\n",
              "        channel.send({})\n",
              "        if (message.buffers) {\n",
              "          for (const buffer of message.buffers) {\n",
              "            buffers.push(buffer);\n",
              "            downloaded += buffer.byteLength;\n",
              "            progress.value = downloaded;\n",
              "          }\n",
              "        }\n",
              "      }\n",
              "      const blob = new Blob(buffers, {type: 'application/binary'});\n",
              "      const a = document.createElement('a');\n",
              "      a.href = window.URL.createObjectURL(blob);\n",
              "      a.download = filename;\n",
              "      div.appendChild(a);\n",
              "      a.click();\n",
              "      div.remove();\n",
              "    }\n",
              "  "
            ]
          },
          "metadata": {}
        },
        {
          "output_type": "display_data",
          "data": {
            "text/plain": [
              "<IPython.core.display.Javascript object>"
            ],
            "application/javascript": [
              "download(\"download_4c7a6775-8631-4249-b9df-0f835111b68b\", \"reorg.zip\", 67240149)"
            ]
          },
          "metadata": {}
        }
      ]
    },
    {
      "cell_type": "code",
      "source": [
        "# single_val_strat_groups = ['ap_amplitutude',\n",
        "#                             'Rmp_mV',\n",
        "#                             'Ra_160.0',\n",
        "#                             'Rm_160.0',\n",
        "#                             'Cm_pc_10.0',                    \n",
        "#                             'Cmq_160.0',\n",
        "#                             'Ra_160.0',\n",
        "#                             'Rm_160.0',\n",
        "#                             'Gain_(HzpA)',\n",
        "#                             'max_adapt%',\n",
        "#                             'adapt_thresh_90',                            \n",
        "#                             'Rheobase',\n",
        "#                             'AP_thresh_US',\n",
        "#                             'fast_after_hyperpol',\n",
        "#                             'Spike_latency_(ms)',\n",
        "#                             'Input_Resistance_MO',\n",
        "#                             ]\n",
        "\n",
        "\n",
        "# manual_exclusions = [''] # Dramatic shift in seal at unknown time during recording.\n",
        "# exclusion_overide = [''] # Vm dramatically improved prior to gain recording\n",
        "\n",
        "\n",
        "# strat_df_dict = Fast_results['strat_df_dict'].copy()\n",
        "# file_naming_scheme = ['Rec_date', 'GenoType', 'Sex', 'Age', 'Slice_Num', 'Cell_num', 'Cell_Type']\n",
        "# filtered_dict, fail_dict = final_qc(strat_df_dict,file_naming_scheme,qc_Rmp=-45,qc_AP_amp=40,qc_RR=.35,qc_Ra=65,manual_exclusions=manual_exclusions,exclusion_overide=exclusion_overide)\n",
        "# alt_strat_dict = restratify_results(filtered_dict,file_naming_scheme,single_val_strat_groups)\n",
        "# resp_curve_list = ['IV_Early_(V_stim)','IV_Early_(I_peak)','IV_Steady_State_(I_mean)','Stim_Levels_(pA)','Spike_Counts']\n",
        "# response_curve_data = stratify_response_curve(filtered_dict,resp_curve_list,strat_list=[''])\n",
        "# alt_strat_dict.update(response_curve_data)\n",
        "\n",
        "# write_strat_dfs(alt_strat_dict, dataset['data_name']+'_results_stratified_alternate')"
      ],
      "metadata": {
        "id": "sDZyt586dICY",
        "outputId": "812fff9a-e596-451b-c411-50ee657f5b06",
        "colab": {
          "base_uri": "https://localhost:8080/",
          "height": 626
        }
      },
      "execution_count": null,
      "outputs": [
        {
          "output_type": "stream",
          "name": "stdout",
          "text": [
            "2022x11x30_E4KI_F_P564_s001_c001_DG Fail - AP = 29.568223626286642 mV\n",
            "2022x11x30_E4KI_F_P564_s001_c003_DG Fail - Ra = 70.35022856703917\n",
            "2022x11x30_E4KI_F_P564_s001_c004_DG Fail - AP = 37.24684471596113 mV\n",
            "2022x11x30_E4KI_F_P564_s001_c005_DG Fail - Ra = 91.92099380069118\n",
            "2022x11x30_E4KI_F_P564_s002_c001_DG Fail - Ra = 70.55274856296731\n",
            "2022x11x30_E4KI_F_P564_s002_c002_DG Fail - Ra = 82.25370865551344\n",
            "2022x11x30_E4KI_F_P564_s002_c004_DG Fail - AP = 31.486596630028743 mV\n",
            "2022x12x01_E4KI_F_P564_s001_c006_DG Fail - AP = 36.57205822762453 mV\n",
            "2022x12x01_E4KI_F_P564_s001_c007_DG Fail - Ra = 70.94062576178689\n",
            "2022x12x01_E4KI_F_P564_s002_c012_DG Fail - AP = 33.80026328591212 mV\n",
            "2022x12x01_E4KI_F_P564_s002_c013_DG Fail - Ra = 65.37365759609162\n",
            "2022x12x02_E3KI_F_P595_s001_c006_DG Fail - Ra = 75.18470938315177\n",
            "2022x12x02_E3KI_F_P595_s002_c011_DG Fail - Ra = 84.46397576506654\n",
            "2022x12x02_E3KI_F_P595_s002_c014_DG Fail - AP = 33.98094187745181 mV\n",
            "ap_amplitutude\n",
            "Rmp_mV\n",
            "Ra_160.0\n",
            "Rm_160.0\n",
            "Cm_pc_10.0\n",
            "Cmq_160.0\n",
            "Gain_(HzpA)\n",
            "max_adapt%\n",
            "adapt_thresh_90\n",
            "Rheobase\n",
            "AP_thresh_US\n",
            "fast_after_hyperpol\n",
            "Spike_latency_(ms)\n",
            "Input_Resistance_MO\n",
            "_IV_Early_(V_stim)\n",
            "_IV_Early_(I_peak)\n",
            "_IV_Steady_State_(I_mean)\n",
            "_Stim_Levels_(pA)\n",
            "_Spike_Counts\n"
          ]
        },
        {
          "output_type": "display_data",
          "data": {
            "text/plain": [
              "<IPython.core.display.Javascript object>"
            ],
            "application/javascript": [
              "\n",
              "    async function download(id, filename, size) {\n",
              "      if (!google.colab.kernel.accessAllowed) {\n",
              "        return;\n",
              "      }\n",
              "      const div = document.createElement('div');\n",
              "      const label = document.createElement('label');\n",
              "      label.textContent = `Downloading \"${filename}\": `;\n",
              "      div.appendChild(label);\n",
              "      const progress = document.createElement('progress');\n",
              "      progress.max = size;\n",
              "      div.appendChild(progress);\n",
              "      document.body.appendChild(div);\n",
              "\n",
              "      const buffers = [];\n",
              "      let downloaded = 0;\n",
              "\n",
              "      const channel = await google.colab.kernel.comms.open(id);\n",
              "      // Send a message to notify the kernel that we're ready.\n",
              "      channel.send({})\n",
              "\n",
              "      for await (const message of channel.messages) {\n",
              "        // Send a message to notify the kernel that we're ready.\n",
              "        channel.send({})\n",
              "        if (message.buffers) {\n",
              "          for (const buffer of message.buffers) {\n",
              "            buffers.push(buffer);\n",
              "            downloaded += buffer.byteLength;\n",
              "            progress.value = downloaded;\n",
              "          }\n",
              "        }\n",
              "      }\n",
              "      const blob = new Blob(buffers, {type: 'application/binary'});\n",
              "      const a = document.createElement('a');\n",
              "      a.href = window.URL.createObjectURL(blob);\n",
              "      a.download = filename;\n",
              "      div.appendChild(a);\n",
              "      a.click();\n",
              "      div.remove();\n",
              "    }\n",
              "  "
            ]
          },
          "metadata": {}
        },
        {
          "output_type": "display_data",
          "data": {
            "text/plain": [
              "<IPython.core.display.Javascript object>"
            ],
            "application/javascript": [
              "download(\"download_6e6a6c93-5feb-4ca4-bbd1-f2e97b2ec3b9\", \"DGC_Data_Batch2_results_stratified_alternate.xlsx\", 41483)"
            ]
          },
          "metadata": {}
        }
      ]
    },
    {
      "cell_type": "code",
      "source": [
        "import scipy as sc\n",
        "\n",
        "\n",
        "\n",
        "\n",
        "def butter_bandpass(lowcut, highcut, fs, order=5):\n",
        "    nyq = 0.5 * fs\n",
        "    low = lowcut / nyq\n",
        "    high = np.min([1-1/fs,highcut / nyq])\n",
        "    b, a = sc.signal.butter(order, [low, high], btype='band')\n",
        "    return b, a\n",
        "\n",
        "def butter_bandpass_filter(data, lowcut, highcut, fs, order=2):\n",
        "\n",
        "    b, a = butter_bandpass(lowcut, highcut, fs, order=order)\n",
        "    data = sc.signal.filtfilt(b, a, data)\n",
        "\n",
        "    b_notch,a_notch = sc.signal.iirnotch(50, 20, fs=fs)\n",
        "    data = sc.signal.filtfilt(a_notch, a_notch, data)\n",
        "    data = data-np.mean(data)\n",
        "    return data\n",
        "\n",
        "def filter_for_PSCs(abf, lowcut, highcut,):\n",
        "    time = abf.sweepX\n",
        "    response = abf.sweepY\n",
        "    holding = abf.sweepC\n",
        "    fs=abf.sampleRate\n",
        "    response_f1 = butter_bandpass_filter(response, lowcut, highcut, fs  ) \n",
        "    response_f2 = butter_bandpass_filter(response, .01, 5000, fs  )\n",
        "    \n",
        "    fig,ax = plt.subplots(1,figsize=[16,3])\n",
        "    ax.plot(time,response_f2,'k')\n",
        "    ax.plot(time,response_f1,'r')\n",
        "    x0 = np.random.choice(time,1)\n",
        "    x0 = 25.25\n",
        "    dur = 3\n",
        "    xlims = x0 +np.array([0,dur])\n",
        "    ax.set_xlim(xlims)\n",
        "    ax.set_ylim([-30,10])\n",
        "\n",
        "    return response_f1\n",
        "\n",
        "def find_events(response_f1,fs, sd_thresh = 5,cool_down_time=0,to_plot= True):\n",
        "    sd = np.std(response_f1)\n",
        "    print(str(sd_thresh)+'sd:',sd*sd_thresh)\n",
        "    cool_down_idx = cool_down_time*fs\n",
        "    is_event = abs(response_f1)>sd*sd_thresh\n",
        "    event_start = np.diff(is_event,prepend=0)>0\n",
        "    starts = np.where(event_start)[0]\n",
        "\n",
        "    x0t = -.005\n",
        "    x1t = 0.02\n",
        "    x0n = x0t*fs\n",
        "    x1n = x1t*fs\n",
        "\n",
        "    fig,ax = plt.subplots(1,figsize=[3,3])\n",
        "    time_wind = np.arange(x0t,x1t,1/fs)\n",
        "    stack = []\n",
        "    for e in starts:    \n",
        "        indx_wind = e + np.arange(x0n,x1n,dtype=int)\n",
        "        try:\n",
        "            resp_wind = response_f1[indx_wind]\n",
        "            ax.plot(time_wind,resp_wind)\n",
        "            stack.append(resp_wind)\n",
        "        except: None\n",
        "        \n",
        "    ax.axhline(sd*sd_thresh,color='k')\n",
        "    ax.axhline(-sd*sd_thresh,color='k')\n",
        "    stack_np = np.stack(stack,axis=0)\n",
        "    print(stack_np.shape)\n",
        "\n",
        "    return stack_np\n",
        "\n",
        "to_plot= True\n",
        "abf=abf_or_name('my_ephys_data_Today/2023x04x12_E4KI_F_P236_s001_c001_DG_0007.abf')\n",
        "\n",
        "\n",
        "\n",
        "response_f1 = filter_for_PSCs(abf, lowcut = 1, highcut = 500)\n",
        "stack_np = find_events(response_f1,fs, sd_thresh = 5,cool_down_time = 0.005 , to_plot= True)\n",
        "\n",
        "U, s, Vh = sc.linalg.svd(stack_np,full_matrices=False)\n",
        "fig,ax=plt.subplots(3)\n",
        "_ = ax[0].plot(np.arange(len(s))+1,1-(s/np.sum(s)),'o')\n",
        "ax[0].set_ylim(0,1)\n",
        "ax[0].set_xscale('log')\n",
        "u, s, vh = sc.sparse.linalg.svds(stack_np,k=1)\n",
        "_ =  ax[1].plot(vh.T @ np.diag(s) )\n",
        "\n",
        "\n",
        "stack_reduced = u @ np.diag(s) @ vh\n",
        "# _ =  ax[2].plot(stack_reduced.T)\n",
        "\n",
        "\n",
        "template = vh.T.flatten()\n",
        "template = template/np.sum(template)\n",
        "response_f1 = response_f1\n",
        "\n",
        "\n",
        "x0 = np.random.choice(time,1)\n",
        "x0 = 24.25\n",
        "dur = 4\n",
        "\n",
        "time = abf.sweepX\n",
        "t_ind = np.logical_and( time>=x0, time<x0+dur )\n",
        "\n",
        "fig,ax = plt.subplots(1)\n",
        "ax.plot(template)\n",
        "corr = np.correlate(template, response_f1 ,mode='same')\n",
        "\n",
        "fig,ax = plt.subplots(1,figsize=[16,3])\n",
        "ax.plot(time,response_f1,'k')\n",
        "ax.plot(time,corr,'r')\n",
        "# ax.plot(corr,'r')\n",
        "xlims = x0 +np.array([0,dur])\n",
        "ax.set_xlim(xlims)\n",
        "# ax.set_ylim([-100,10])\n"
      ],
      "metadata": {
        "id": "DkWaISTYiLKu",
        "outputId": "72df4dd7-0223-4689-e5a7-eedd5d7e5d7b",
        "colab": {
          "base_uri": "https://localhost:8080/",
          "height": 380
        }
      },
      "execution_count": null,
      "outputs": [
        {
          "output_type": "error",
          "ename": "ValueError",
          "evalue": "ignored",
          "traceback": [
            "\u001b[0;31m---------------------------------------------------------------------------\u001b[0m",
            "\u001b[0;31mValueError\u001b[0m                                Traceback (most recent call last)",
            "\u001b[0;32m<ipython-input-7-0aeb49689553>\u001b[0m in \u001b[0;36m<cell line: 75>\u001b[0;34m()\u001b[0m\n\u001b[1;32m     73\u001b[0m \u001b[0;34m\u001b[0m\u001b[0m\n\u001b[1;32m     74\u001b[0m \u001b[0mto_plot\u001b[0m\u001b[0;34m=\u001b[0m \u001b[0;32mTrue\u001b[0m\u001b[0;34m\u001b[0m\u001b[0;34m\u001b[0m\u001b[0m\n\u001b[0;32m---> 75\u001b[0;31m \u001b[0mabf\u001b[0m\u001b[0;34m=\u001b[0m\u001b[0mabf_or_name\u001b[0m\u001b[0;34m(\u001b[0m\u001b[0;34m'my_ephys_data_Today/2023x04x12_E4KI_F_P236_s001_c001_DG_0007.abf'\u001b[0m\u001b[0;34m)\u001b[0m\u001b[0;34m\u001b[0m\u001b[0;34m\u001b[0m\u001b[0m\n\u001b[0m\u001b[1;32m     76\u001b[0m \u001b[0;34m\u001b[0m\u001b[0m\n\u001b[1;32m     77\u001b[0m \u001b[0;34m\u001b[0m\u001b[0m\n",
            "\u001b[0;32m<ipython-input-1-5229885d37da>\u001b[0m in \u001b[0;36mabf_or_name\u001b[0;34m(abf)\u001b[0m\n\u001b[1;32m      9\u001b[0m \u001b[0;32mdef\u001b[0m \u001b[0mabf_or_name\u001b[0m\u001b[0;34m(\u001b[0m\u001b[0mabf\u001b[0m\u001b[0;34m)\u001b[0m\u001b[0;34m:\u001b[0m\u001b[0;34m\u001b[0m\u001b[0;34m\u001b[0m\u001b[0m\n\u001b[1;32m     10\u001b[0m     \u001b[0;32mif\u001b[0m \u001b[0mstr\u001b[0m\u001b[0;34m(\u001b[0m\u001b[0mtype\u001b[0m\u001b[0;34m(\u001b[0m\u001b[0mabf\u001b[0m\u001b[0;34m)\u001b[0m\u001b[0;34m)\u001b[0m\u001b[0;34m==\u001b[0m\u001b[0;34m\"<class 'str'>\"\u001b[0m\u001b[0;34m:\u001b[0m\u001b[0;34m\u001b[0m\u001b[0;34m\u001b[0m\u001b[0m\n\u001b[0;32m---> 11\u001b[0;31m         \u001b[0mabf\u001b[0m \u001b[0;34m=\u001b[0m \u001b[0mpyabf\u001b[0m\u001b[0;34m.\u001b[0m\u001b[0mABF\u001b[0m\u001b[0;34m(\u001b[0m \u001b[0mabf\u001b[0m \u001b[0;34m)\u001b[0m\u001b[0;34m\u001b[0m\u001b[0;34m\u001b[0m\u001b[0m\n\u001b[0m\u001b[1;32m     12\u001b[0m     \u001b[0;32mreturn\u001b[0m \u001b[0mabf\u001b[0m\u001b[0;34m\u001b[0m\u001b[0;34m\u001b[0m\u001b[0m\n\u001b[1;32m     13\u001b[0m \u001b[0;34m\u001b[0m\u001b[0m\n",
            "\u001b[0;32m/usr/local/lib/python3.10/dist-packages/pyabf/abf.py\u001b[0m in \u001b[0;36m__init__\u001b[0;34m(self, abfFilePath, loadData, cacheStimulusFiles, stimulusFileFolder)\u001b[0m\n\u001b[1;32m     98\u001b[0m \u001b[0;34m\u001b[0m\u001b[0m\n\u001b[1;32m     99\u001b[0m         \u001b[0;32mif\u001b[0m \u001b[0;32mnot\u001b[0m \u001b[0mos\u001b[0m\u001b[0;34m.\u001b[0m\u001b[0mpath\u001b[0m\u001b[0;34m.\u001b[0m\u001b[0mexists\u001b[0m\u001b[0;34m(\u001b[0m\u001b[0mself\u001b[0m\u001b[0;34m.\u001b[0m\u001b[0mabfFilePath\u001b[0m\u001b[0;34m)\u001b[0m\u001b[0;34m:\u001b[0m\u001b[0;34m\u001b[0m\u001b[0;34m\u001b[0m\u001b[0m\n\u001b[0;32m--> 100\u001b[0;31m             \u001b[0;32mraise\u001b[0m \u001b[0mValueError\u001b[0m\u001b[0;34m(\u001b[0m\u001b[0;34m\"ABF file does not exist: %s\"\u001b[0m \u001b[0;34m%\u001b[0m \u001b[0mself\u001b[0m\u001b[0;34m.\u001b[0m\u001b[0mabfFilePath\u001b[0m\u001b[0;34m)\u001b[0m\u001b[0;34m\u001b[0m\u001b[0;34m\u001b[0m\u001b[0m\n\u001b[0m\u001b[1;32m    101\u001b[0m         \u001b[0mself\u001b[0m\u001b[0;34m.\u001b[0m\u001b[0mabfID\u001b[0m \u001b[0;34m=\u001b[0m \u001b[0mos\u001b[0m\u001b[0;34m.\u001b[0m\u001b[0mpath\u001b[0m\u001b[0;34m.\u001b[0m\u001b[0msplitext\u001b[0m\u001b[0;34m(\u001b[0m\u001b[0mos\u001b[0m\u001b[0;34m.\u001b[0m\u001b[0mpath\u001b[0m\u001b[0;34m.\u001b[0m\u001b[0mbasename\u001b[0m\u001b[0;34m(\u001b[0m\u001b[0mself\u001b[0m\u001b[0;34m.\u001b[0m\u001b[0mabfFilePath\u001b[0m\u001b[0;34m)\u001b[0m\u001b[0;34m)\u001b[0m\u001b[0;34m[\u001b[0m\u001b[0;36m0\u001b[0m\u001b[0;34m]\u001b[0m\u001b[0;34m\u001b[0m\u001b[0;34m\u001b[0m\u001b[0m\n\u001b[1;32m    102\u001b[0m \u001b[0;34m\u001b[0m\u001b[0m\n",
            "\u001b[0;31mValueError\u001b[0m: ABF file does not exist: /content/my_ephys_data_Today/2023x04x12_E4KI_F_P236_s001_c001_DG_0007.abf"
          ]
        }
      ]
    },
    {
      "cell_type": "code",
      "source": [],
      "metadata": {
        "id": "Q_vY2b6Fwlvr"
      },
      "execution_count": null,
      "outputs": []
    }
  ]
}
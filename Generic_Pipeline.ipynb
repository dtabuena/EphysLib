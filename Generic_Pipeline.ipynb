{
  "nbformat": 4,
  "nbformat_minor": 0,
  "metadata": {
    "colab": {
      "name": "_Main.ipynb",
      "provenance": [],
      "include_colab_link": true
    },
    "kernelspec": {
      "name": "python3",
      "display_name": "Python 3"
    },
    "language_info": {
      "name": "python"
    }
  },
  "cells": [
    {
      "cell_type": "markdown",
      "metadata": {
        "id": "view-in-github",
        "colab_type": "text"
      },
      "source": [
        "<a href=\"https://colab.research.google.com/github/dtabuena/EphysLib/blob/main/Generic_Pipeline.ipynb\" target=\"_parent\"><img src=\"https://colab.research.google.com/assets/colab-badge.svg\" alt=\"Open In Colab\"/></a>"
      ]
    },
    {
      "cell_type": "code",
      "source": [
        "'Get Standard Modules'\n",
        "\n",
        "import pandas as pd\n",
        "import numpy as np\n",
        "import matplotlib\n",
        "import matplotlib.pyplot as plt\n",
        "import scipy\n",
        "from scipy import stats\n",
        "import os\n",
        "from scipy.signal import butter,filtfilt\n",
        "from tqdm import tqdm\n",
        "import warnings\n",
        "from IPython.display import clear_output\n",
        "from datetime import datetime\n",
        "import sys\n",
        "import warnings\n",
        "import shutil\n",
        "from google.colab import files\n",
        "warnings.filterwarnings('ignore')\n",
        "np.set_printoptions(threshold=sys.maxsize)\n",
        "clear_output(wait=False)"
      ],
      "metadata": {
        "id": "JB3cLtpu5iXZ"
      },
      "execution_count": 6,
      "outputs": []
    },
    {
      "cell_type": "code",
      "source": [
        "try: shutil.rmtree('/content/EphysLib')\n",
        "except: None\n",
        "\n",
        "\"run dtabuena's ephys notebooks\"\n",
        "!git clone https://github.com/dtabuena/EphysLib\n",
        "\n",
        "to_import = [\n",
        "          'ABF_Quality_Control.ipynb',\n",
        "          'Basic_Ephys.ipynb',\n",
        "          'Firing_Rate_Gain.ipynb',\n",
        "          'Simple_ABF_tools.ipynb',\n",
        "          'IV_analyzer.ipynb',\n",
        "          'membrane_analyzer.ipynb',\n",
        "          'analyze_rheobase.ipynb',\n",
        "          'fun_math.ipynb',\n",
        "          'importing_abfs_from_dropbox.ipynb',\n",
        "          'input_resistance_analyzer.ipynb',\n",
        "          'latencey_analyzer.ipynb',\n",
        "          'QC_recoding_dataframe.ipynb'\n",
        "            ]\n",
        "\n",
        "for i in to_import:\n",
        "    f = '/content/EphysLib/' + i\n",
        "    %run $f\n"
      ],
      "metadata": {
        "colab": {
          "base_uri": "https://localhost:8080/"
        },
        "id": "w4lZ-pjFGrf_",
        "outputId": "889fcb56-588d-493e-8e80-9441f0c2ca2a"
      },
      "execution_count": 7,
      "outputs": [
        {
          "output_type": "stream",
          "name": "stdout",
          "text": [
            "Cloning into 'EphysLib'...\n",
            "remote: Enumerating objects: 193, done.\u001b[K\n",
            "remote: Counting objects:   1% (1/99)\u001b[K\rremote: Counting objects:   2% (2/99)\u001b[K\rremote: Counting objects:   3% (3/99)\u001b[K\rremote: Counting objects:   4% (4/99)\u001b[K\rremote: Counting objects:   5% (5/99)\u001b[K\rremote: Counting objects:   6% (6/99)\u001b[K\rremote: Counting objects:   7% (7/99)\u001b[K\rremote: Counting objects:   8% (8/99)\u001b[K\rremote: Counting objects:   9% (9/99)\u001b[K\rremote: Counting objects:  10% (10/99)\u001b[K\rremote: Counting objects:  11% (11/99)\u001b[K\rremote: Counting objects:  12% (12/99)\u001b[K\rremote: Counting objects:  13% (13/99)\u001b[K\rremote: Counting objects:  14% (14/99)\u001b[K\rremote: Counting objects:  15% (15/99)\u001b[K\rremote: Counting objects:  16% (16/99)\u001b[K\rremote: Counting objects:  17% (17/99)\u001b[K\rremote: Counting objects:  18% (18/99)\u001b[K\rremote: Counting objects:  19% (19/99)\u001b[K\rremote: Counting objects:  20% (20/99)\u001b[K\rremote: Counting objects:  21% (21/99)\u001b[K\rremote: Counting objects:  22% (22/99)\u001b[K\rremote: Counting objects:  23% (23/99)\u001b[K\rremote: Counting objects:  24% (24/99)\u001b[K\rremote: Counting objects:  25% (25/99)\u001b[K\rremote: Counting objects:  26% (26/99)\u001b[K\rremote: Counting objects:  27% (27/99)\u001b[K\rremote: Counting objects:  28% (28/99)\u001b[K\rremote: Counting objects:  29% (29/99)\u001b[K\rremote: Counting objects:  30% (30/99)\u001b[K\rremote: Counting objects:  31% (31/99)\u001b[K\rremote: Counting objects:  32% (32/99)\u001b[K\rremote: Counting objects:  33% (33/99)\u001b[K\rremote: Counting objects:  34% (34/99)\u001b[K\rremote: Counting objects:  35% (35/99)\u001b[K\rremote: Counting objects:  36% (36/99)\u001b[K\rremote: Counting objects:  37% (37/99)\u001b[K\rremote: Counting objects:  38% (38/99)\u001b[K\rremote: Counting objects:  39% (39/99)\u001b[K\rremote: Counting objects:  40% (40/99)\u001b[K\rremote: Counting objects:  41% (41/99)\u001b[K\rremote: Counting objects:  42% (42/99)\u001b[K\rremote: Counting objects:  43% (43/99)\u001b[K\rremote: Counting objects:  44% (44/99)\u001b[K\rremote: Counting objects:  45% (45/99)\u001b[K\rremote: Counting objects:  46% (46/99)\u001b[K\rremote: Counting objects:  47% (47/99)\u001b[K\rremote: Counting objects:  48% (48/99)\u001b[K\rremote: Counting objects:  49% (49/99)\u001b[K\rremote: Counting objects:  50% (50/99)\u001b[K\rremote: Counting objects:  51% (51/99)\u001b[K\rremote: Counting objects:  52% (52/99)\u001b[K\rremote: Counting objects:  53% (53/99)\u001b[K\rremote: Counting objects:  54% (54/99)\u001b[K\rremote: Counting objects:  55% (55/99)\u001b[K\rremote: Counting objects:  56% (56/99)\u001b[K\rremote: Counting objects:  57% (57/99)\u001b[K\rremote: Counting objects:  58% (58/99)\u001b[K\rremote: Counting objects:  59% (59/99)\u001b[K\rremote: Counting objects:  60% (60/99)\u001b[K\rremote: Counting objects:  61% (61/99)\u001b[K\rremote: Counting objects:  62% (62/99)\u001b[K\rremote: Counting objects:  63% (63/99)\u001b[K\rremote: Counting objects:  64% (64/99)\u001b[K\rremote: Counting objects:  65% (65/99)\u001b[K\rremote: Counting objects:  66% (66/99)\u001b[K\rremote: Counting objects:  67% (67/99)\u001b[K\rremote: Counting objects:  68% (68/99)\u001b[K\rremote: Counting objects:  69% (69/99)\u001b[K\rremote: Counting objects:  70% (70/99)\u001b[K\rremote: Counting objects:  71% (71/99)\u001b[K\rremote: Counting objects:  72% (72/99)\u001b[K\rremote: Counting objects:  73% (73/99)\u001b[K\rremote: Counting objects:  74% (74/99)\u001b[K\rremote: Counting objects:  75% (75/99)\u001b[K\rremote: Counting objects:  76% (76/99)\u001b[K\rremote: Counting objects:  77% (77/99)\u001b[K\rremote: Counting objects:  78% (78/99)\u001b[K\rremote: Counting objects:  79% (79/99)\u001b[K\rremote: Counting objects:  80% (80/99)\u001b[K\rremote: Counting objects:  81% (81/99)\u001b[K\rremote: Counting objects:  82% (82/99)\u001b[K\rremote: Counting objects:  83% (83/99)\u001b[K\rremote: Counting objects:  84% (84/99)\u001b[K\rremote: Counting objects:  85% (85/99)\u001b[K\rremote: Counting objects:  86% (86/99)\u001b[K\rremote: Counting objects:  87% (87/99)\u001b[K\rremote: Counting objects:  88% (88/99)\u001b[K\rremote: Counting objects:  89% (89/99)\u001b[K\rremote: Counting objects:  90% (90/99)\u001b[K\rremote: Counting objects:  91% (91/99)\u001b[K\rremote: Counting objects:  92% (92/99)\u001b[K\rremote: Counting objects:  93% (93/99)\u001b[K\rremote: Counting objects:  94% (94/99)\u001b[K\rremote: Counting objects:  95% (95/99)\u001b[K\rremote: Counting objects:  96% (96/99)\u001b[K\rremote: Counting objects:  97% (97/99)\u001b[K\rremote: Counting objects:  98% (98/99)\u001b[K\rremote: Counting objects: 100% (99/99)\u001b[K\rremote: Counting objects: 100% (99/99), done.\u001b[K\n",
            "remote: Compressing objects:   1% (1/70)\u001b[K\rremote: Compressing objects:   2% (2/70)\u001b[K\rremote: Compressing objects:   4% (3/70)\u001b[K\rremote: Compressing objects:   5% (4/70)\u001b[K\rremote: Compressing objects:   7% (5/70)\u001b[K\rremote: Compressing objects:   8% (6/70)\u001b[K\rremote: Compressing objects:  10% (7/70)\u001b[K\rremote: Compressing objects:  11% (8/70)\u001b[K\rremote: Compressing objects:  12% (9/70)\u001b[K\rremote: Compressing objects:  14% (10/70)\u001b[K\rremote: Compressing objects:  15% (11/70)\u001b[K\rremote: Compressing objects:  17% (12/70)\u001b[K\rremote: Compressing objects:  18% (13/70)\u001b[K\rremote: Compressing objects:  20% (14/70)\u001b[K\rremote: Compressing objects:  21% (15/70)\u001b[K\rremote: Compressing objects:  22% (16/70)\u001b[K\rremote: Compressing objects:  24% (17/70)\u001b[K\rremote: Compressing objects:  25% (18/70)\u001b[K\rremote: Compressing objects:  27% (19/70)\u001b[K\rremote: Compressing objects:  28% (20/70)\u001b[K\rremote: Compressing objects:  30% (21/70)\u001b[K\rremote: Compressing objects:  31% (22/70)\u001b[K\rremote: Compressing objects:  32% (23/70)\u001b[K\rremote: Compressing objects:  34% (24/70)\u001b[K\rremote: Compressing objects:  35% (25/70)\u001b[K\rremote: Compressing objects:  37% (26/70)\u001b[K\rremote: Compressing objects:  38% (27/70)\u001b[K\rremote: Compressing objects:  40% (28/70)\u001b[K\rremote: Compressing objects:  41% (29/70)\u001b[K\rremote: Compressing objects:  42% (30/70)\u001b[K\rremote: Compressing objects:  44% (31/70)\u001b[K\rremote: Compressing objects:  45% (32/70)\u001b[K\rremote: Compressing objects:  47% (33/70)\u001b[K\rremote: Compressing objects:  48% (34/70)\u001b[K\rremote: Compressing objects:  50% (35/70)\u001b[K\rremote: Compressing objects:  51% (36/70)\u001b[K\rremote: Compressing objects:  52% (37/70)\u001b[K\rremote: Compressing objects:  54% (38/70)\u001b[K\rremote: Compressing objects:  55% (39/70)\u001b[K\rremote: Compressing objects:  57% (40/70)\u001b[K\rremote: Compressing objects:  58% (41/70)\u001b[K\rremote: Compressing objects:  60% (42/70)\u001b[K\rremote: Compressing objects:  61% (43/70)\u001b[K\rremote: Compressing objects:  62% (44/70)\u001b[K\rremote: Compressing objects:  64% (45/70)\u001b[K\rremote: Compressing objects:  65% (46/70)\u001b[K\rremote: Compressing objects:  67% (47/70)\u001b[K\rremote: Compressing objects:  68% (48/70)\u001b[K\rremote: Compressing objects:  70% (49/70)\u001b[K\rremote: Compressing objects:  71% (50/70)\u001b[K\rremote: Compressing objects:  72% (51/70)\u001b[K\rremote: Compressing objects:  74% (52/70)\u001b[K\rremote: Compressing objects:  75% (53/70)\u001b[K\rremote: Compressing objects:  77% (54/70)\u001b[K\rremote: Compressing objects:  78% (55/70)\u001b[K\rremote: Compressing objects:  80% (56/70)\u001b[K\rremote: Compressing objects:  81% (57/70)\u001b[K\rremote: Compressing objects:  82% (58/70)\u001b[K\rremote: Compressing objects:  84% (59/70)\u001b[K\rremote: Compressing objects:  85% (60/70)\u001b[K\rremote: Compressing objects:  87% (61/70)\u001b[K\rremote: Compressing objects:  88% (62/70)\u001b[K\rremote: Compressing objects:  90% (63/70)\u001b[K\rremote: Compressing objects:  91% (64/70)\u001b[K\rremote: Compressing objects:  92% (65/70)\u001b[K\rremote: Compressing objects:  94% (66/70)\u001b[K\rremote: Compressing objects:  95% (67/70)\u001b[K\rremote: Compressing objects:  97% (68/70)\u001b[K\rremote: Compressing objects:  98% (69/70)\u001b[K\rremote: Compressing objects: 100% (70/70)\u001b[K\rremote: Compressing objects: 100% (70/70), done.\u001b[K\n",
            "Receiving objects:   0% (1/193)   \rReceiving objects:   1% (2/193)   \rReceiving objects:   2% (4/193)   \rReceiving objects:   3% (6/193)   \rReceiving objects:   4% (8/193)   \rReceiving objects:   5% (10/193)   \rReceiving objects:   6% (12/193)   \rReceiving objects:   7% (14/193)   \rReceiving objects:   8% (16/193)   \rReceiving objects:   9% (18/193)   \rReceiving objects:  10% (20/193)   \rReceiving objects:  11% (22/193)   \rReceiving objects:  12% (24/193)   \rReceiving objects:  13% (26/193)   \rReceiving objects:  14% (28/193)   \rReceiving objects:  15% (29/193)   \rReceiving objects:  16% (31/193)   \rReceiving objects:  17% (33/193)   \rReceiving objects:  18% (35/193)   \rReceiving objects:  19% (37/193)   \rReceiving objects:  20% (39/193)   \rReceiving objects:  21% (41/193)   \rReceiving objects:  22% (43/193)   \rReceiving objects:  23% (45/193)   \rReceiving objects:  24% (47/193)   \rReceiving objects:  25% (49/193)   \rReceiving objects:  26% (51/193)   \rReceiving objects:  27% (53/193)   \rReceiving objects:  28% (55/193)   \rReceiving objects:  29% (56/193)   \rReceiving objects:  30% (58/193)   \rReceiving objects:  31% (60/193)   \rReceiving objects:  32% (62/193)   \rReceiving objects:  33% (64/193)   \rReceiving objects:  34% (66/193)   \rReceiving objects:  35% (68/193)   \rReceiving objects:  36% (70/193)   \rReceiving objects:  37% (72/193)   \rReceiving objects:  38% (74/193)   \rReceiving objects:  39% (76/193)   \rReceiving objects:  40% (78/193)   \rReceiving objects:  41% (80/193)   \rReceiving objects:  42% (82/193)   \rReceiving objects:  43% (83/193)   \rReceiving objects:  44% (85/193)   \rReceiving objects:  45% (87/193)   \rReceiving objects:  46% (89/193)   \rReceiving objects:  47% (91/193)   \rReceiving objects:  48% (93/193)   \rReceiving objects:  49% (95/193)   \rReceiving objects:  50% (97/193)   \rReceiving objects:  51% (99/193)   \rReceiving objects:  52% (101/193)   \rReceiving objects:  53% (103/193)   \rReceiving objects:  54% (105/193)   \rReceiving objects:  55% (107/193)   \rReceiving objects:  56% (109/193)   \rReceiving objects:  57% (111/193)   \rReceiving objects:  58% (112/193)   \rReceiving objects:  59% (114/193)   \rReceiving objects:  60% (116/193)   \rReceiving objects:  61% (118/193)   \rReceiving objects:  62% (120/193)   \rReceiving objects:  63% (122/193)   \rReceiving objects:  64% (124/193)   \rReceiving objects:  65% (126/193)   \rReceiving objects:  66% (128/193)   \rReceiving objects:  67% (130/193)   \rReceiving objects:  68% (132/193)   \rReceiving objects:  69% (134/193)   \rReceiving objects:  70% (136/193)   \rReceiving objects:  71% (138/193)   \rReceiving objects:  72% (139/193)   \rReceiving objects:  73% (141/193)   \rReceiving objects:  74% (143/193)   \rReceiving objects:  75% (145/193)   \rReceiving objects:  76% (147/193)   \rReceiving objects:  77% (149/193)   \rReceiving objects:  78% (151/193)   \rReceiving objects:  79% (153/193)   \rReceiving objects:  80% (155/193)   \rReceiving objects:  81% (157/193)   \rReceiving objects:  82% (159/193)   \rReceiving objects:  83% (161/193)   \rReceiving objects:  84% (163/193)   \rReceiving objects:  85% (165/193)   \rReceiving objects:  86% (166/193)   \rReceiving objects:  87% (168/193)   \rremote: Total 193 (delta 67), reused 29 (delta 29), pack-reused 94\u001b[K\n",
            "Receiving objects:  88% (170/193)   \rReceiving objects:  89% (172/193)   \rReceiving objects:  90% (174/193)   \rReceiving objects:  91% (176/193)   \rReceiving objects:  92% (178/193)   \rReceiving objects:  93% (180/193)   \rReceiving objects:  94% (182/193)   \rReceiving objects:  95% (184/193)   \rReceiving objects:  96% (186/193)   \rReceiving objects:  97% (188/193)   \rReceiving objects:  98% (190/193)   \rReceiving objects:  99% (192/193)   \rReceiving objects: 100% (193/193)   \rReceiving objects: 100% (193/193), 190.14 KiB | 15.84 MiB/s, done.\n",
            "Resolving deltas:   0% (0/111)   \rResolving deltas:  10% (12/111)   \rResolving deltas:  11% (13/111)   \rResolving deltas:  55% (62/111)   \rResolving deltas:  74% (83/111)   \rResolving deltas:  80% (89/111)   \rResolving deltas:  83% (93/111)   \rResolving deltas:  86% (96/111)   \rResolving deltas:  89% (99/111)   \rResolving deltas:  90% (101/111)   \rResolving deltas: 100% (111/111)   \rResolving deltas: 100% (111/111), done.\n",
            "Looking in indexes: https://pypi.org/simple, https://us-python.pkg.dev/colab-wheels/public/simple/\n",
            "Requirement already satisfied: pyabf in /usr/local/lib/python3.7/dist-packages (2.3.6)\n",
            "Requirement already satisfied: pytest>=3.0.7 in /usr/local/lib/python3.7/dist-packages (from pyabf) (3.6.4)\n",
            "Requirement already satisfied: numpy>=1.13.3 in /usr/local/lib/python3.7/dist-packages (from pyabf) (1.21.6)\n",
            "Requirement already satisfied: matplotlib>=2.1.0 in /usr/local/lib/python3.7/dist-packages (from pyabf) (3.2.2)\n",
            "Requirement already satisfied: python-dateutil>=2.1 in /usr/local/lib/python3.7/dist-packages (from matplotlib>=2.1.0->pyabf) (2.8.2)\n",
            "Requirement already satisfied: cycler>=0.10 in /usr/local/lib/python3.7/dist-packages (from matplotlib>=2.1.0->pyabf) (0.11.0)\n",
            "Requirement already satisfied: pyparsing!=2.0.4,!=2.1.2,!=2.1.6,>=2.0.1 in /usr/local/lib/python3.7/dist-packages (from matplotlib>=2.1.0->pyabf) (3.0.9)\n",
            "Requirement already satisfied: kiwisolver>=1.0.1 in /usr/local/lib/python3.7/dist-packages (from matplotlib>=2.1.0->pyabf) (1.4.4)\n",
            "Requirement already satisfied: typing-extensions in /usr/local/lib/python3.7/dist-packages (from kiwisolver>=1.0.1->matplotlib>=2.1.0->pyabf) (4.1.1)\n",
            "Requirement already satisfied: attrs>=17.4.0 in /usr/local/lib/python3.7/dist-packages (from pytest>=3.0.7->pyabf) (22.1.0)\n",
            "Requirement already satisfied: six>=1.10.0 in /usr/local/lib/python3.7/dist-packages (from pytest>=3.0.7->pyabf) (1.15.0)\n",
            "Requirement already satisfied: pluggy<0.8,>=0.5 in /usr/local/lib/python3.7/dist-packages (from pytest>=3.0.7->pyabf) (0.7.1)\n",
            "Requirement already satisfied: atomicwrites>=1.0 in /usr/local/lib/python3.7/dist-packages (from pytest>=3.0.7->pyabf) (1.4.1)\n",
            "Requirement already satisfied: setuptools in /usr/local/lib/python3.7/dist-packages (from pytest>=3.0.7->pyabf) (57.4.0)\n",
            "Requirement already satisfied: more-itertools>=4.0.0 in /usr/local/lib/python3.7/dist-packages (from pytest>=3.0.7->pyabf) (8.14.0)\n",
            "Requirement already satisfied: py>=1.5.0 in /usr/local/lib/python3.7/dist-packages (from pytest>=3.0.7->pyabf) (1.11.0)\n"
          ]
        }
      ]
    },
    {
      "cell_type": "code",
      "source": [
        "'Import and catalog source data'\n",
        "'RNF182 Dropbox'\n",
        "data_source = \"https://www.dropbox.com/sh/n9t8p257wnzlijk/AAC9Z36JodisyZjnM3mkJC3Xa?dl=0\"\n",
        "file_loc = get_drobox_folder(data_source, 'my_ephys_data.zip')\n",
        "clear_output(wait=False)\n",
        "file_naming_scheme = ['Rec_date','Virus','GenoType','Sex','Age','Slice_Num','Cell_num','Cell_Type']\n",
        "abf_recordings_df,protocol_set = catalogue_recs(file_loc,file_naming_scheme)\n",
        "print('Protocol_Names:')\n",
        "_ = [print(p) for p in protocol_set]"
      ],
      "metadata": {
        "id": "MYTtLS5v5V-J",
        "outputId": "97315773-978a-4b36-e4db-876f9b6e8b0a",
        "colab": {
          "base_uri": "https://localhost:8080/"
        }
      },
      "execution_count": 8,
      "outputs": [
        {
          "output_type": "stream",
          "name": "stdout",
          "text": [
            "Protocol_Names:\n",
            "IC - Rheobase\n",
            "IC - Latentcy 800pA-1s\n",
            "VC - Multi IV - 150ms\n",
            "IC - Gain - D50pA\n",
            "VC - 3min GapFree\n",
            "VC - MemTest-10ms-160ms\n",
            "IC - R input\n",
            "IC - Sag - D50pA\n"
          ]
        }
      ]
    },
    {
      "cell_type": "code",
      "source": [
        "VC_prot = ['VC - MemTest-10ms-160ms',\n",
        "           'VC - Multi IV - 150ms',\n",
        "           'VC - 3min GapFree',\n",
        "           'VC - Spontaneous-3min-(MT)']\n",
        "IC_prot = ['IC - Gain - D20pA',\n",
        "           'IC - Gain - D50pA',\n",
        "           'IC - Rheobase',\n",
        "           'IC - R input',\n",
        "           'IC - Latentcy 800pA-1s']\n",
        "\n",
        "abf_recordings_df, _ = purge_wrong_clamp(abf_recordings_df,VC_prot,IC_prot)"
      ],
      "metadata": {
        "id": "7A4t8U0ea33E"
      },
      "execution_count": 9,
      "outputs": []
    },
    {
      "cell_type": "code",
      "source": [
        "def analysis_iterator(abf_recordings_df,func_dict,arg_dict):\n",
        "    problem_recs = []\n",
        "    def init_col_object(df,name): \n",
        "        df[name] = None\n",
        "        df[name] = df[name].astype(object)\n",
        "        return df\n",
        "\n",
        "    for file_name in tqdm(abf_recordings_df.index):\n",
        "        abf = abf_or_name(file_name)\n",
        "        prot_name = abf.protocol\n",
        "\n",
        "\n",
        "        # check for keyed protocol\n",
        "        if prot_name not in func_dict.keys():\n",
        "            # print('unknown protocol(func): ',  prot_name)\n",
        "            continue\n",
        "        if prot_name not in arg_dict.keys():\n",
        "            # print('unknown protocol(args): ',  prot_name)\n",
        "            continue\n",
        "\n",
        "\n",
        "        try:\n",
        "            analyzer_func = func_dict[prot_name]  # get analyzer from dict\n",
        "            args_for_analyzer =  [abf] + arg_dict[prot_name] # get args for analyzer from dict\n",
        "            results = analyzer_func(*args_for_analyzer) # run analyzer\n",
        "            for k in results.keys():\n",
        "\n",
        "                # New Col?\n",
        "                cols = abf_recordings_df.columns\n",
        "                if k not in cols:\n",
        "                    abf_recordings_df = init_col_object(abf_recordings_df,k)\n",
        "                abf_recordings_df.at[file_name,k] = results[k]\n",
        "        except: \n",
        "            print('error on: ' ,file_name)\n",
        "            problem_recs.append(file_name)\n",
        "\n",
        "    return abf_recordings_df, problem_recs\n",
        "\n",
        "\n",
        "spike_args =  {'spike_thresh':20, 'high_dv_thresh': 25,'low_dv_thresh': -5,'window_ms': 2}\n",
        "\n",
        "func_dict = {}\n",
        "arg_dict = {}\n",
        "\n",
        "func_dict['IC - Rheobase']= rheobase_analyzer\n",
        "arg_dict['IC - Rheobase'] = [spike_args, False, False, False]  # [spike_args, to_plot, verbose, force_singlespike]\n",
        "\n",
        "func_dict['IC - Gain - D20pA']= gain_analyzer\n",
        "arg_dict['IC - Gain - D20pA']= [spike_args, 0.8, 0]  # [spike_args, to_plot, verbose, force_singlespike]\n",
        "func_dict['IC - Gain - D50pA']= func_dict['IC - Gain - D20pA'] \n",
        "arg_dict['IC - Gain - D50pA']= arg_dict['IC - Gain - D20pA']\n",
        "\n",
        "func_dict['VC - MemTest-10ms-160ms']= membrane_analyzer\n",
        "arg_dict['VC - MemTest-10ms-160ms']= [False, False, ['Ra', 'Rm', 'Cm', 'tau',\t'Cmq',\t'Cmf',\t'Cmqf', 'Cm_pc']]  # [to_plot, verbose]\n",
        "\n",
        "func_dict['IC - Latentcy 800pA-1s']= latencey_analyzer \n",
        "arg_dict['IC - Latentcy 800pA-1s']= [spike_args, False]  # [spike_args, to_plot]\n",
        "\n",
        "func_dict['IC - Latentcy 800pA-1s']= latencey_analyzer \n",
        "arg_dict['IC - Latentcy 800pA-1s']= [spike_args, False]  # [spike_args, to_plot]\n",
        "\n",
        "func_dict['IC - R input']= input_resistance_analyzer \n",
        "arg_dict['IC - R input']= [[-30, 10] ,False]  # [dVm_limits, to_plot]\n",
        "\n",
        "\n",
        "func_dict['VC - Multi IV - 150ms'] = IV_analyzer\n",
        "arg_dict['VC - Multi IV - 150ms']= [{'IV_Early':(16.5, 30),'IV_Steady_State':(100,120)} ,False]  # [measure_windows, to_plot]\n",
        "\n",
        "\n",
        "abf_recordings_df, problem_recs = analysis_iterator(abf_recordings_df,func_dict,arg_dict)\n",
        "print(problem_recs)\n",
        "\n",
        "abf_recordings_df.to_csv('test.csv')\n",
        "files.download('test.csv')"
      ],
      "metadata": {
        "id": "CANQTWscKMtA",
        "outputId": "abfbf1d2-1b27-4083-d392-8255c4b53264",
        "colab": {
          "base_uri": "https://localhost:8080/",
          "height": 141
        }
      },
      "execution_count": 10,
      "outputs": [
        {
          "output_type": "stream",
          "name": "stderr",
          "text": [
            "  4%|▎         | 8/226 [00:12<08:05,  2.23s/it]"
          ]
        },
        {
          "output_type": "stream",
          "name": "stdout",
          "text": [
            "ap_stats_failed:  ABF (v2.9) with 2 channels (mV, pA), sampled at 10.0 kHz, containing 3 sweeps, having no tags, with a total length of 0.57 minutes, recorded with protocol \"IC - Rheobase\".\n"
          ]
        },
        {
          "output_type": "stream",
          "name": "stderr",
          "text": [
            " 25%|██▌       | 57/226 [00:44<01:33,  1.81it/s]"
          ]
        },
        {
          "output_type": "stream",
          "name": "stdout",
          "text": [
            "error on:  my_ephys_data/2022_08_12_RNF182/2022x08x12_RNF182_E4KI_F_P251_s002_c006_CA3xPOS_0006.abf\n"
          ]
        },
        {
          "output_type": "stream",
          "name": "stderr",
          "text": [
            " 65%|██████▌   | 148/226 [02:05<01:43,  1.33s/it]"
          ]
        },
        {
          "output_type": "stream",
          "name": "stdout",
          "text": [
            "ap_stats_failed:  ABF (v2.9) with 2 channels (mV, pA), sampled at 10.0 kHz, containing 7 sweeps, having no tags, with a total length of 1.23 minutes, recorded with protocol \"IC - Rheobase\".\n"
          ]
        },
        {
          "output_type": "stream",
          "name": "stderr",
          "text": [
            "100%|██████████| 226/226 [03:13<00:00,  1.17it/s]"
          ]
        },
        {
          "output_type": "stream",
          "name": "stdout",
          "text": [
            "['my_ephys_data/2022_08_12_RNF182/2022x08x12_RNF182_E4KI_F_P251_s002_c006_CA3xPOS_0006.abf']\n"
          ]
        },
        {
          "output_type": "stream",
          "name": "stderr",
          "text": [
            "\n"
          ]
        },
        {
          "output_type": "display_data",
          "data": {
            "text/plain": [
              "<IPython.core.display.Javascript object>"
            ],
            "application/javascript": [
              "\n",
              "    async function download(id, filename, size) {\n",
              "      if (!google.colab.kernel.accessAllowed) {\n",
              "        return;\n",
              "      }\n",
              "      const div = document.createElement('div');\n",
              "      const label = document.createElement('label');\n",
              "      label.textContent = `Downloading \"${filename}\": `;\n",
              "      div.appendChild(label);\n",
              "      const progress = document.createElement('progress');\n",
              "      progress.max = size;\n",
              "      div.appendChild(progress);\n",
              "      document.body.appendChild(div);\n",
              "\n",
              "      const buffers = [];\n",
              "      let downloaded = 0;\n",
              "\n",
              "      const channel = await google.colab.kernel.comms.open(id);\n",
              "      // Send a message to notify the kernel that we're ready.\n",
              "      channel.send({})\n",
              "\n",
              "      for await (const message of channel.messages) {\n",
              "        // Send a message to notify the kernel that we're ready.\n",
              "        channel.send({})\n",
              "        if (message.buffers) {\n",
              "          for (const buffer of message.buffers) {\n",
              "            buffers.push(buffer);\n",
              "            downloaded += buffer.byteLength;\n",
              "            progress.value = downloaded;\n",
              "          }\n",
              "        }\n",
              "      }\n",
              "      const blob = new Blob(buffers, {type: 'application/binary'});\n",
              "      const a = document.createElement('a');\n",
              "      a.href = window.URL.createObjectURL(blob);\n",
              "      a.download = filename;\n",
              "      div.appendChild(a);\n",
              "      a.click();\n",
              "      div.remove();\n",
              "    }\n",
              "  "
            ]
          },
          "metadata": {}
        },
        {
          "output_type": "display_data",
          "data": {
            "text/plain": [
              "<IPython.core.display.Javascript object>"
            ],
            "application/javascript": [
              "download(\"download_79a12ff1-e8f5-4c7c-a3fb-a3aa2f236593\", \"test.csv\", 122326)"
            ]
          },
          "metadata": {}
        }
      ]
    },
    {
      "cell_type": "code",
      "source": [
        "def cell_sorting(abf_recordings_df):\n",
        "\n",
        "    unique_cells = list(set(abf_recordings_df['cell_id']))\n",
        "    unique_cells.sort()\n",
        "    transfer_cols = [c for c in abf_recordings_df.columns if 'cell_id' not in c]\n",
        "    cell_df = pd.DataFrame(index=list(unique_cells),columns = transfer_cols)\n",
        "    \n",
        "\n",
        "    for cell in cell_df.index:\n",
        "        match = [cell in r for r in abf_recordings_df['cell_id']]\n",
        "        for col in transfer_cols:\n",
        "            match_values = list(abf_recordings_df[match][col])\n",
        "            # print('col', col)\n",
        "            # print(match_values)\n",
        "\n",
        "            cell_df.at[cell,col] = match_values\n",
        "    return cell_df\n",
        "\n",
        "def consolidate_iv_recs(multi_vals):\n",
        "    multi_vals = [v for v in multi_vals if v is not None]   \n",
        "    v_stim = [  mv['V_stim'] for mv in  multi_vals ]\n",
        "    peak_vals = [  mv['I_peak'] for mv in  multi_vals ]\n",
        "    if len(v_stim)>1:\n",
        "        rec_lengths = [len(v) for v in v_stim]\n",
        "        long_enough = np.where(np.array(rec_lengths) > 5)[0][0]\n",
        "        multi_vals = multi_vals[long_enough]\n",
        "        # print(multi_vals)  \n",
        "    return multi_vals\n",
        "\n",
        "\n",
        "\n",
        "def cell_consolidation(cell_df,list_types,any_types,average_types = True):\n",
        "    cell_df_con = cell_df.copy()\n",
        "    explicit_cols = ['IV_Early','IV_Steady_State','Stim_Levels_(pA)','Spike_Counts']\n",
        "\n",
        "    if average_types:\n",
        "        average_types = [c for c in cell_df_con.columns if c not in any_types and c not in list_types and c not in explicit_cols]\n",
        "        \n",
        "        # print('average_types',average_types)\n",
        "\n",
        "\n",
        "\n",
        "    for cell in cell_df_con.index:\n",
        "        for col in list_types:\n",
        "            'do nothing, keep the list'\n",
        "        for col in any_types:\n",
        "            'they are all the same take the first'\n",
        "            cell_df_con.at[cell,col] = cell_df_con.at[cell,col][0]\n",
        "\n",
        "        for col in average_types:\n",
        "            multi_vals = cell_df_con.loc[cell,col]\n",
        "            try:\n",
        "                multi_vals = [v for v in multi_vals if v is not None]\n",
        "                single_val = np.nanmean(multi_vals,0)\n",
        "                cell_df_con.at[cell,col] = single_val\n",
        "                # print(single_val)\n",
        "            except: 'Just keep going None'\n",
        "        \n",
        "\n",
        "    # explicitly defined consolidations\n",
        "    for col in ['IV_Early', 'IV_Steady_State']:\n",
        "        for cell in cell_df_con.index:\n",
        "            try:\n",
        "                multi_vals = cell_df_con.loc[cell,col]\n",
        "                multi_vals = consolidate_iv_recs(multi_vals)\n",
        "            except:\n",
        "                if np.isnan(multi_vals): multi_vals = None\n",
        "                else: multi_vals = 'ERROR'       \n",
        "\n",
        "            if not isinstance(multi_vals, list): multi_vals=[multi_vals]\n",
        "            cell_df_con.at[cell,col] = multi_vals\n",
        "\n",
        "    for cell in cell_df_con.index:\n",
        "        multi_val_pair = (cell_df_con.loc[cell,'Stim_Levels_(pA)'], cell_df_con.loc[cell,'Spike_Counts'])\n",
        "        multi_val_pair = consolidate_gain_recs(multi_val_pair)\n",
        "\n",
        "        new_stim = multi_val_pair[0]\n",
        "        new_firing = multi_val_pair[1]\n",
        "        if len(new_stim)>0:\n",
        "            if isinstance(new_stim[0],list):\n",
        "                new_stim = new_stim[0]\n",
        "        if len(new_firing)>0:\n",
        "            if isinstance(new_firing[0],list):\n",
        "                new_firing = new_firing[0]\n",
        "\n",
        "        cell_df_con.at[cell,'Stim_Levels_(pA)'] = new_stim\n",
        "        cell_df_con.at[cell,'Spike_Counts'] = new_firing\n",
        "\n",
        "    return cell_df_con\n",
        "\n",
        "def consolidate_iv_recs(multi_vals):\n",
        "    multi_vals = [v for v in multi_vals if v is not None]   \n",
        "    v_stim = [  mv['V_stim'] for mv in  multi_vals ]\n",
        "    peak_vals = [  mv['I_peak'] for mv in  multi_vals ]\n",
        "    if len(v_stim)>1:\n",
        "        rec_lengths = [len(v) for v in v_stim]\n",
        "        long_enough = np.where(np.array(rec_lengths) > 5)[0][0]\n",
        "        multi_vals = multi_vals[long_enough]\n",
        "        # print(multi_vals)  \n",
        "    return multi_vals\n",
        "\n",
        "def simplify_dicts(cell_df,cols_to_simplify,remove_source = True):\n",
        "    cell_df_new = cell_df.copy()\n",
        "    for col in cols_to_simplify:\n",
        "        for cell in cell_df_new.index:\n",
        "            list_of_dicts = cell_df_new.loc[cell,col]\n",
        "            list_of_dicts = [d for d in list_of_dicts if d is not None]\n",
        "            if len(list_of_dicts) == 0: continue\n",
        "            # print(list_of_dicts)\n",
        "            list_of_keys = list(list_of_dicts[0].keys())            \n",
        "            for k in list_of_keys:\n",
        "                vals_of_key = []\n",
        "                for i in range(len(list_of_dicts)):\n",
        "                    vals_of_key.append(  list_of_dicts[i][k] )\n",
        "                if len(vals_of_key) == 1: vals_of_key = vals_of_key[0]\n",
        "                new_col = col + '_(' + str(k) +')'\n",
        "                if new_col not in cell_df_new.columns: \n",
        "                    cell_df_new[new_col] = None\n",
        "                    cell_df_new[new_col] = cell_df_new[new_col].astype(object)\n",
        "                cell_df_new.at[cell,new_col] = vals_of_key\n",
        "        cell_df_new.drop(labels=col, axis = 1,inplace = True)\n",
        "    return cell_df_new\n",
        "\n",
        "def consolidate_gain_recs(multi_val_pair):\n",
        "    min_stims = 5\n",
        "    mv_stim = multi_val_pair[0]\n",
        "    mv_fire = multi_val_pair[1]\n",
        "    mv_stim = [v.tolist() for v in mv_stim if v is not None]\n",
        "    mv_fire = [v.tolist() for v in mv_fire if v is not None]\n",
        "    results = (mv_stim, mv_fire)\n",
        "\n",
        "\n",
        "    if len(mv_stim)>1:\n",
        "        rec_lengths = [len(v) for v in mv_stim]\n",
        "        mv_stim = [v for v in mv_stim if len(v) >=min_stims]\n",
        "        mv_fire = [v for v in mv_fire if len(v) >=min_stims]\n",
        "\n",
        "    results = (mv_stim, mv_fire)\n",
        "    \n",
        "    if len(mv_stim)>1:\n",
        "        stim_set = list(set( [vv for v in mv_stim for vv in v] ))# flat_list = [item for sublist in regular_list for item in sublist]\n",
        "        stim_set.sort()\n",
        "        new_vals_dict = {}\n",
        "        for s in stim_set:\n",
        "            matching_response =[]\n",
        "            matching_stim = []\n",
        "            for i in range(len(mv_stim)):\n",
        "                for j in range(len(mv_stim[i])):\n",
        "                    if mv_stim[i][j] == s:\n",
        "                        matching_stim.append(mv_stim[i][j])\n",
        "                        matching_response.append(mv_fire[i][j])\n",
        "            new_vals_dict[s] =  matching_response\n",
        "        new_stim_list = []\n",
        "        new_response_list = []\n",
        "        for k in new_vals_dict:\n",
        "            new_vals_dict[k] = np.mean(new_vals_dict[k])\n",
        "            new_stim_list.append(k)\n",
        "            new_response_list.append(new_vals_dict[k])\n",
        "\n",
        "\n",
        "        results = (new_stim_list, new_response_list)\n",
        "        \n",
        "    return results\n",
        "\n",
        "cell_df = cell_sorting(abf_recordings_df)\n",
        "\n",
        "list_types = ['Recording_name','protocol','abf_timestamp', 'channelList']\n",
        "any_types = ['Rec_date',\t'Virus',\t'GenoType',\t'Sex',\t'Age',\t'Slice_Num',\t'Cell_num',\t'Cell_Type']\n",
        "\n",
        "\n",
        "cell_df_con = cell_consolidation(cell_df,list_types,any_types)\n",
        "cell_df_con.to_csv('cell_df_con.csv')\n",
        "files.download('cell_df_con.csv')\n",
        "\n",
        "cols_to_simplify = ['IV_Early', 'IV_Steady_State']\n",
        "cell_df_nd = simplify_dicts(cell_df_con,cols_to_simplify)             \n",
        "cell_df_nd.to_csv('cell_df_nd.csv')\n",
        "files.download('cell_df_nd.csv')     "
      ],
      "metadata": {
        "colab": {
          "base_uri": "https://localhost:8080/",
          "height": 17
        },
        "id": "GtJUI1kFl0eJ",
        "outputId": "283f3be1-18f2-4cfc-a89e-364f779db5e6"
      },
      "execution_count": 11,
      "outputs": [
        {
          "output_type": "display_data",
          "data": {
            "text/plain": [
              "<IPython.core.display.Javascript object>"
            ],
            "application/javascript": [
              "\n",
              "    async function download(id, filename, size) {\n",
              "      if (!google.colab.kernel.accessAllowed) {\n",
              "        return;\n",
              "      }\n",
              "      const div = document.createElement('div');\n",
              "      const label = document.createElement('label');\n",
              "      label.textContent = `Downloading \"${filename}\": `;\n",
              "      div.appendChild(label);\n",
              "      const progress = document.createElement('progress');\n",
              "      progress.max = size;\n",
              "      div.appendChild(progress);\n",
              "      document.body.appendChild(div);\n",
              "\n",
              "      const buffers = [];\n",
              "      let downloaded = 0;\n",
              "\n",
              "      const channel = await google.colab.kernel.comms.open(id);\n",
              "      // Send a message to notify the kernel that we're ready.\n",
              "      channel.send({})\n",
              "\n",
              "      for await (const message of channel.messages) {\n",
              "        // Send a message to notify the kernel that we're ready.\n",
              "        channel.send({})\n",
              "        if (message.buffers) {\n",
              "          for (const buffer of message.buffers) {\n",
              "            buffers.push(buffer);\n",
              "            downloaded += buffer.byteLength;\n",
              "            progress.value = downloaded;\n",
              "          }\n",
              "        }\n",
              "      }\n",
              "      const blob = new Blob(buffers, {type: 'application/binary'});\n",
              "      const a = document.createElement('a');\n",
              "      a.href = window.URL.createObjectURL(blob);\n",
              "      a.download = filename;\n",
              "      div.appendChild(a);\n",
              "      a.click();\n",
              "      div.remove();\n",
              "    }\n",
              "  "
            ]
          },
          "metadata": {}
        },
        {
          "output_type": "display_data",
          "data": {
            "text/plain": [
              "<IPython.core.display.Javascript object>"
            ],
            "application/javascript": [
              "download(\"download_bdc779c4-a425-4d6d-ac9e-673b648d595b\", \"cell_df_con.csv\", 76210)"
            ]
          },
          "metadata": {}
        },
        {
          "output_type": "display_data",
          "data": {
            "text/plain": [
              "<IPython.core.display.Javascript object>"
            ],
            "application/javascript": [
              "\n",
              "    async function download(id, filename, size) {\n",
              "      if (!google.colab.kernel.accessAllowed) {\n",
              "        return;\n",
              "      }\n",
              "      const div = document.createElement('div');\n",
              "      const label = document.createElement('label');\n",
              "      label.textContent = `Downloading \"${filename}\": `;\n",
              "      div.appendChild(label);\n",
              "      const progress = document.createElement('progress');\n",
              "      progress.max = size;\n",
              "      div.appendChild(progress);\n",
              "      document.body.appendChild(div);\n",
              "\n",
              "      const buffers = [];\n",
              "      let downloaded = 0;\n",
              "\n",
              "      const channel = await google.colab.kernel.comms.open(id);\n",
              "      // Send a message to notify the kernel that we're ready.\n",
              "      channel.send({})\n",
              "\n",
              "      for await (const message of channel.messages) {\n",
              "        // Send a message to notify the kernel that we're ready.\n",
              "        channel.send({})\n",
              "        if (message.buffers) {\n",
              "          for (const buffer of message.buffers) {\n",
              "            buffers.push(buffer);\n",
              "            downloaded += buffer.byteLength;\n",
              "            progress.value = downloaded;\n",
              "          }\n",
              "        }\n",
              "      }\n",
              "      const blob = new Blob(buffers, {type: 'application/binary'});\n",
              "      const a = document.createElement('a');\n",
              "      a.href = window.URL.createObjectURL(blob);\n",
              "      a.download = filename;\n",
              "      div.appendChild(a);\n",
              "      a.click();\n",
              "      div.remove();\n",
              "    }\n",
              "  "
            ]
          },
          "metadata": {}
        },
        {
          "output_type": "display_data",
          "data": {
            "text/plain": [
              "<IPython.core.display.Javascript object>"
            ],
            "application/javascript": [
              "download(\"download_6839c363-15d2-4a24-8e37-693833955695\", \"cell_df_nd.csv\", 74283)"
            ]
          },
          "metadata": {}
        }
      ]
    },
    {
      "cell_type": "code",
      "source": [
        "keys_and_data_cols={'Stim_Levels_(pA)': ['Spike_Counts' ],\n",
        "                    'IV_Early_(V_stim)': ['IV_Early_(I_peak)', 'IV_Steady_State_(I_mean)']}\n",
        " \n",
        " \n",
        "def csv_frinedly(cell_df,keys_and_data_cols,remove_source = True):\n",
        "    cell_df_csv = cell_df.copy()\n",
        "    for k in keys_and_data_cols.keys():\n",
        "        for data_col in keys_and_data_cols[k]:\n",
        "            for cell in cell_df_csv.index:\n",
        "                label_value_list = cell_df_csv.loc[cell,k]\n",
        "                data_value_list = cell_df_csv.loc[cell,data_col]\n",
        "                if label_value_list is None: continue\n",
        "                label_value_len = len( label_value_list)\n",
        "                for i in range(label_value_len):\n",
        "                    new_col_name = data_col + '_' + str( cell_df_csv.loc[cell,k][i])\n",
        "                    if new_col_name not in cell_df_csv.columns: cell_df_csv[new_col_name] = None\n",
        "                    cell_df_csv.at[cell,new_col_name] = data_value_list[i]\n",
        "\n",
        "    return cell_df_csv\n",
        "\n",
        "cell_df_csv = csv_frinedly(cell_df_nd,keys_and_data_cols)\n",
        "cell_df_csv.to_csv('cell_df_csv.csv')\n",
        "files.download('cell_df_csv.csv')   "
      ],
      "metadata": {
        "colab": {
          "base_uri": "https://localhost:8080/",
          "height": 17
        },
        "id": "52YMU0DlsYWL",
        "outputId": "5c818afc-4174-4f16-dd51-1783b25ea92a"
      },
      "execution_count": 12,
      "outputs": [
        {
          "output_type": "display_data",
          "data": {
            "text/plain": [
              "<IPython.core.display.Javascript object>"
            ],
            "application/javascript": [
              "\n",
              "    async function download(id, filename, size) {\n",
              "      if (!google.colab.kernel.accessAllowed) {\n",
              "        return;\n",
              "      }\n",
              "      const div = document.createElement('div');\n",
              "      const label = document.createElement('label');\n",
              "      label.textContent = `Downloading \"${filename}\": `;\n",
              "      div.appendChild(label);\n",
              "      const progress = document.createElement('progress');\n",
              "      progress.max = size;\n",
              "      div.appendChild(progress);\n",
              "      document.body.appendChild(div);\n",
              "\n",
              "      const buffers = [];\n",
              "      let downloaded = 0;\n",
              "\n",
              "      const channel = await google.colab.kernel.comms.open(id);\n",
              "      // Send a message to notify the kernel that we're ready.\n",
              "      channel.send({})\n",
              "\n",
              "      for await (const message of channel.messages) {\n",
              "        // Send a message to notify the kernel that we're ready.\n",
              "        channel.send({})\n",
              "        if (message.buffers) {\n",
              "          for (const buffer of message.buffers) {\n",
              "            buffers.push(buffer);\n",
              "            downloaded += buffer.byteLength;\n",
              "            progress.value = downloaded;\n",
              "          }\n",
              "        }\n",
              "      }\n",
              "      const blob = new Blob(buffers, {type: 'application/binary'});\n",
              "      const a = document.createElement('a');\n",
              "      a.href = window.URL.createObjectURL(blob);\n",
              "      a.download = filename;\n",
              "      div.appendChild(a);\n",
              "      a.click();\n",
              "      div.remove();\n",
              "    }\n",
              "  "
            ]
          },
          "metadata": {}
        },
        {
          "output_type": "display_data",
          "data": {
            "text/plain": [
              "<IPython.core.display.Javascript object>"
            ],
            "application/javascript": [
              "download(\"download_9ad3176c-a0b5-4fda-bb90-6f1f6df6438d\", \"cell_df_csv.csv\", 84247)"
            ]
          },
          "metadata": {}
        }
      ]
    },
    {
      "cell_type": "code",
      "source": [
        "def stratify_cells(cell_df,strat_col,to_save_download=True):\n",
        "    types = list(set(cell_df[strat_col]))\n",
        "\n",
        "    new_dfs = {}\n",
        "    for t in types:\n",
        "        is_type = cell_df[strat_col] == t\n",
        "        new_dfs[t] = cell_df[is_type]\n",
        "        new_dfs[t].to_csv(str(t) + '_cell_df_csv.csv')\n",
        "        files.download(str(t) + '_cell_df_csv.csv')\n",
        "\n",
        "    return new_dfs\n",
        "\n",
        "strat_col = 'Cell_Type'\n",
        "new_dfs = stratify_cells(cell_df_csv,strat_col)\n",
        "# display(new_dfs)\n"
      ],
      "metadata": {
        "colab": {
          "base_uri": "https://localhost:8080/",
          "height": 17
        },
        "id": "nW7uy85HO0U8",
        "outputId": "c8ee5749-d112-4343-d2f7-dc82aa09fa0c"
      },
      "execution_count": 13,
      "outputs": [
        {
          "output_type": "display_data",
          "data": {
            "text/plain": [
              "<IPython.core.display.Javascript object>"
            ],
            "application/javascript": [
              "\n",
              "    async function download(id, filename, size) {\n",
              "      if (!google.colab.kernel.accessAllowed) {\n",
              "        return;\n",
              "      }\n",
              "      const div = document.createElement('div');\n",
              "      const label = document.createElement('label');\n",
              "      label.textContent = `Downloading \"${filename}\": `;\n",
              "      div.appendChild(label);\n",
              "      const progress = document.createElement('progress');\n",
              "      progress.max = size;\n",
              "      div.appendChild(progress);\n",
              "      document.body.appendChild(div);\n",
              "\n",
              "      const buffers = [];\n",
              "      let downloaded = 0;\n",
              "\n",
              "      const channel = await google.colab.kernel.comms.open(id);\n",
              "      // Send a message to notify the kernel that we're ready.\n",
              "      channel.send({})\n",
              "\n",
              "      for await (const message of channel.messages) {\n",
              "        // Send a message to notify the kernel that we're ready.\n",
              "        channel.send({})\n",
              "        if (message.buffers) {\n",
              "          for (const buffer of message.buffers) {\n",
              "            buffers.push(buffer);\n",
              "            downloaded += buffer.byteLength;\n",
              "            progress.value = downloaded;\n",
              "          }\n",
              "        }\n",
              "      }\n",
              "      const blob = new Blob(buffers, {type: 'application/binary'});\n",
              "      const a = document.createElement('a');\n",
              "      a.href = window.URL.createObjectURL(blob);\n",
              "      a.download = filename;\n",
              "      div.appendChild(a);\n",
              "      a.click();\n",
              "      div.remove();\n",
              "    }\n",
              "  "
            ]
          },
          "metadata": {}
        },
        {
          "output_type": "display_data",
          "data": {
            "text/plain": [
              "<IPython.core.display.Javascript object>"
            ],
            "application/javascript": [
              "download(\"download_21a2633c-e190-44dd-a463-a1e20f679253\", \"CA3xNEG_cell_df_csv.csv\", 40783)"
            ]
          },
          "metadata": {}
        },
        {
          "output_type": "display_data",
          "data": {
            "text/plain": [
              "<IPython.core.display.Javascript object>"
            ],
            "application/javascript": [
              "\n",
              "    async function download(id, filename, size) {\n",
              "      if (!google.colab.kernel.accessAllowed) {\n",
              "        return;\n",
              "      }\n",
              "      const div = document.createElement('div');\n",
              "      const label = document.createElement('label');\n",
              "      label.textContent = `Downloading \"${filename}\": `;\n",
              "      div.appendChild(label);\n",
              "      const progress = document.createElement('progress');\n",
              "      progress.max = size;\n",
              "      div.appendChild(progress);\n",
              "      document.body.appendChild(div);\n",
              "\n",
              "      const buffers = [];\n",
              "      let downloaded = 0;\n",
              "\n",
              "      const channel = await google.colab.kernel.comms.open(id);\n",
              "      // Send a message to notify the kernel that we're ready.\n",
              "      channel.send({})\n",
              "\n",
              "      for await (const message of channel.messages) {\n",
              "        // Send a message to notify the kernel that we're ready.\n",
              "        channel.send({})\n",
              "        if (message.buffers) {\n",
              "          for (const buffer of message.buffers) {\n",
              "            buffers.push(buffer);\n",
              "            downloaded += buffer.byteLength;\n",
              "            progress.value = downloaded;\n",
              "          }\n",
              "        }\n",
              "      }\n",
              "      const blob = new Blob(buffers, {type: 'application/binary'});\n",
              "      const a = document.createElement('a');\n",
              "      a.href = window.URL.createObjectURL(blob);\n",
              "      a.download = filename;\n",
              "      div.appendChild(a);\n",
              "      a.click();\n",
              "      div.remove();\n",
              "    }\n",
              "  "
            ]
          },
          "metadata": {}
        },
        {
          "output_type": "display_data",
          "data": {
            "text/plain": [
              "<IPython.core.display.Javascript object>"
            ],
            "application/javascript": [
              "download(\"download_62a1ea08-ce93-4a4e-947a-fc31fa8f1b2a\", \"CA3xPOS_cell_df_csv.csv\", 45179)"
            ]
          },
          "metadata": {}
        }
      ]
    }
  ]
}
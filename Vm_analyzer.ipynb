{
  "nbformat": 4,
  "nbformat_minor": 0,
  "metadata": {
    "colab": {
      "name": "Vm_analyzer.ipynb",
      "provenance": [],
      "authorship_tag": "ABX9TyNFdj7or1pPynl8KkiQj4bN",
      "include_colab_link": true
    },
    "kernelspec": {
      "name": "python3",
      "display_name": "Python 3"
    },
    "language_info": {
      "name": "python"
    }
  },
  "cells": [
    {
      "cell_type": "markdown",
      "metadata": {
        "id": "view-in-github",
        "colab_type": "text"
      },
      "source": [
        "<a href=\"https://colab.research.google.com/github/dtabuena/EphysLib/blob/main/Vm_analyzer.ipynb\" target=\"_parent\"><img src=\"https://colab.research.google.com/assets/colab-badge.svg\" alt=\"Open In Colab\"/></a>"
      ]
    },
    {
      "cell_type": "code",
      "execution_count": null,
      "metadata": {
        "id": "27h8jZULvYeF"
      },
      "outputs": [],
      "source": [
        "def rmp_analyzer(abf,to_plot=False):\n",
        "    results = {}\n",
        "    command = abf.sweepC\n",
        "    vm = abf.sweepY\n",
        "    if to_plot:\n",
        "        plt.hist2d(command,vm,20)\n",
        "        plt.show()\n",
        "    mean_rmp = np.mean(vm)\n",
        "    mean_command = np.mean(command)\n",
        "    if abs(mean_command)<20:\n",
        "        results = {'Rmp_mV': mean_rmp}\n",
        "    return results\n",
        "\n",
        "# fn = 'my_ephys_data/2022_08_12_RNF182/2022x08x12_RNF182_E4KI_F_P251_s001_c001_CA3xPOS_0000.abf'\n",
        "# abf = abf_or_name(fn)\n",
        "# rmp_analyzer(abf,to_plot=True)"
      ]
    }
  ]
}
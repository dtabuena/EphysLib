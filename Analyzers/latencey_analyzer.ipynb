{
  "nbformat": 4,
  "nbformat_minor": 0,
  "metadata": {
    "colab": {
      "name": "latencey_analyzer.ipynb",
      "provenance": [],
      "include_colab_link": true
    },
    "kernelspec": {
      "name": "python3",
      "display_name": "Python 3"
    },
    "language_info": {
      "name": "python"
    }
  },
  "cells": [
    {
      "cell_type": "markdown",
      "metadata": {
        "id": "view-in-github",
        "colab_type": "text"
      },
      "source": [
        "<a href=\"https://colab.research.google.com/github/dtabuena/EphysLib/blob/main/Analyzers/latencey_analyzer.ipynb\" target=\"_parent\"><img src=\"https://colab.research.google.com/assets/colab-badge.svg\" alt=\"Open In Colab\"/></a>"
      ]
    },
    {
      "cell_type": "code",
      "execution_count": null,
      "metadata": {
        "id": "xP3XTQYJzg4I"
      },
      "outputs": [],
      "source": [
        "def latencey_analyzer(abf,spike_args,to_plot=False,dpi=100):\n",
        "    '''Analyze abf for spike latency'''\n",
        "    results = {}\n",
        "    latencey_list = []\n",
        "    v_hold_list = []\n",
        "    ap_list = []\n",
        "    rheo_list = []\n",
        "    for s in abf.sweepList:\n",
        "        abf.setSweep(s)\n",
        "        latencey, v_hold, ramp_ap_thresh, ramp_rheobase = analyze_ramp_sweep(abf,spike_args,to_plot=to_plot,dpi=dpi)\n",
        "        latencey_list.append(latencey)\n",
        "        v_hold_list.append(v_hold)\n",
        "        ap_list.append(ramp_ap_thresh)\n",
        "        rheo_list.append(ramp_rheobase)\n",
        "\n",
        "    # Nearest to -70mv\n",
        "    vhold_err = (abs(np.array(v_hold_list) + 70))\n",
        "    best = np.where(vhold_err==np.min(vhold_err))[0][0]\n",
        "    results['Spike_latency_(ms)'] = latencey_list[best]\n",
        "    results['Ramp_AP_thresh'] = ap_list[best]\n",
        "    results['Ramp_Vh'] = v_hold_list[best]\n",
        "    results['Ramp_Rheobase'] = rheo_list[best]\n",
        "\n",
        "    return results\n",
        "\n",
        "\n",
        "        \n",
        "def analyze_ramp_sweep(abf,spike_args,to_plot=False,dpi=100):\n",
        "    'Receives sweep data and finds the first AP and returns it.'\n",
        "    'Also retuns Vhold for quality control.'\n",
        "\n",
        "    sweepX = abf.sweepX\n",
        "    sweepY = abf.sweepY\n",
        "    sweepC = abf.sweepC\n",
        "    rate = abf.sampleRate\n",
        "\n",
        "    is_base = sweepC==sweepC[0]\n",
        "    is_stim = np.logical_not(sweepC==sweepC[0])\n",
        "    ramp_start_ind = np.min(np.where(is_base==False))\n",
        "    v_hold = np.mean( sweepY[0:ramp_start_ind])\n",
        "    # print(sweepX,sweepY)\n",
        "\n",
        "\n",
        "    dVds, over_thresh, inds, mean_spike_rate = find_spike_in_trace(sweepY, rate,spike_args,is_stim=is_stim)\n",
        " \n",
        "    if len(inds)==0:\n",
        "        print('no spikes found')\n",
        "        return np.nan,v_hold,np.nan,np.nan\n",
        "    latencey = sweepX[np.min(inds)-ramp_start_ind]*1000\n",
        "    ramp_ap_thresh = sweepY[np.min(inds)]\n",
        "    ramp_rheobase = sweepC[np.min(inds)]\n",
        "\n",
        "\n",
        "    if to_plot:\n",
        "        # plt.scatter(sweepX,dVds,color='k')\n",
        "        fig, axs, =plt.subplots(1,2)\n",
        "        for a in axs:\n",
        "            a.plot(sweepX,sweepY,color='k')\n",
        "            a.scatter(sweepX[inds],sweepY[inds],color='r' )\n",
        "        zoom_x_relativ = np.array([ 0.75, 1.5])\n",
        "        zoom_x = zoom_x_relativ*(latencey/1000+sweepX[ramp_start_ind])\n",
        "        axs[1].set_xlim(zoom_x)\n",
        "        try:    os.makedirs('Saved_Figs/Spike_latency/')\n",
        "        except:     None\n",
        "        plt.savefig( 'Saved_Figs/Spike_latency/Spike_latency'+'_' + abf.abfID +'.png',dpi=dpi)\n",
        "        plt.show()\n",
        "        \n",
        "\n",
        "    return latencey, v_hold, ramp_ap_thresh,ramp_rheobase\n"
      ]
    }
  ]
}
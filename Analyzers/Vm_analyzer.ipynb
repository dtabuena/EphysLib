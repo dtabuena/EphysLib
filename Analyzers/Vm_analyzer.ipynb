{
  "nbformat": 4,
  "nbformat_minor": 0,
  "metadata": {
    "colab": {
      "name": "Vm_analyzer.ipynb",
      "provenance": [],
      "authorship_tag": "ABX9TyMFhIaQijx+vFO7pfsOzF5+",
      "include_colab_link": true
    },
    "kernelspec": {
      "name": "python3",
      "display_name": "Python 3"
    },
    "language_info": {
      "name": "python"
    }
  },
  "cells": [
    {
      "cell_type": "markdown",
      "metadata": {
        "id": "view-in-github",
        "colab_type": "text"
      },
      "source": [
        "<a href=\"https://colab.research.google.com/github/dtabuena/EphysLib/blob/main/Analyzers/Vm_analyzer.ipynb\" target=\"_parent\"><img src=\"https://colab.research.google.com/assets/colab-badge.svg\" alt=\"Open In Colab\"/></a>"
      ]
    },
    {
      "cell_type": "code",
      "execution_count": null,
      "metadata": {
        "id": "27h8jZULvYeF"
      },
      "outputs": [],
      "source": [
        "def rmp_analyzer(abf,to_plot=False):\n",
        "    # except: None\n",
        "    results = {}\n",
        "    command = abf.sweepC\n",
        "    vm = abf.sweepY\n",
        "    if to_plot:\n",
        "        plt.ioff()\n",
        "        plt.scatter(command,vm)\n",
        "        # plt.show()\n",
        "        try:    os.makedirs('content/SavedFigs/Resting_VM/')\n",
        "        except:     None\n",
        "        plt.savefig( 'SavedFigs/Resting_VM/Resting_VM_' + abf.abfID +'.png',dpi=600)\n",
        "    mean_rmp = np.mean(vm)\n",
        "    mean_command = np.mean(command)\n",
        "    if abs(mean_command)<20:\n",
        "        results = {'Rmp_mV': mean_rmp}\n",
        "    return results\n",
        "\n",
        "\n",
        "# abf =abf_or_name()\n",
        "# plt.savefig( 'resting vm' + abf.abfID +'.png',dpi=600)"
      ]
    }
  ]
}
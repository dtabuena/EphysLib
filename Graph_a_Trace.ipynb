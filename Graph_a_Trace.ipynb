{
  "nbformat": 4,
  "nbformat_minor": 0,
  "metadata": {
    "colab": {
      "provenance": [],
      "authorship_tag": "ABX9TyPbfpMltqqNYUvwfPpoWDuH",
      "include_colab_link": true
    },
    "kernelspec": {
      "name": "python3",
      "display_name": "Python 3"
    },
    "language_info": {
      "name": "python"
    }
  },
  "cells": [
    {
      "cell_type": "markdown",
      "metadata": {
        "id": "view-in-github",
        "colab_type": "text"
      },
      "source": [
        "<a href=\"https://colab.research.google.com/github/dtabuena/EphysLib/blob/main/Graph_a_Trace.ipynb\" target=\"_parent\"><img src=\"https://colab.research.google.com/assets/colab-badge.svg\" alt=\"Open In Colab\"/></a>"
      ]
    },
    {
      "cell_type": "code",
      "execution_count": 1,
      "metadata": {
        "colab": {
          "base_uri": "https://localhost:8080/"
        },
        "id": "igq5Zjykk8mb",
        "outputId": "f1fc7002-406f-40f1-f137-bc5290cdcce2"
      },
      "outputs": [
        {
          "output_type": "stream",
          "name": "stdout",
          "text": [
            "Looking in indexes: https://pypi.org/simple, https://us-python.pkg.dev/colab-wheels/public/simple/\n",
            "Requirement already satisfied: openpyxl in /usr/local/lib/python3.9/dist-packages (3.0.10)\n",
            "Requirement already satisfied: et-xmlfile in /usr/local/lib/python3.9/dist-packages (from openpyxl) (1.1.0)\n",
            "Looking in indexes: https://pypi.org/simple, https://us-python.pkg.dev/colab-wheels/public/simple/\n",
            "Collecting XlsxWriter\n",
            "  Downloading XlsxWriter-3.1.0-py3-none-any.whl (152 kB)\n",
            "\u001b[2K     \u001b[90m━━━━━━━━━━━━━━━━━━━━━━━━━━━━━━━━━━━━━━━\u001b[0m \u001b[32m152.7/152.7 kB\u001b[0m \u001b[31m2.9 MB/s\u001b[0m eta \u001b[36m0:00:00\u001b[0m\n",
            "\u001b[?25hInstalling collected packages: XlsxWriter\n",
            "Successfully installed XlsxWriter-3.1.0\n",
            "Cloning into 'EphysLib'...\n",
            "remote: Enumerating objects: 1002, done.\u001b[K\n",
            "remote: Counting objects: 100% (379/379), done.\u001b[K\n",
            "remote: Compressing objects: 100% (186/186), done.\u001b[K\n",
            "remote: Total 1002 (delta 290), reused 230 (delta 193), pack-reused 623\u001b[K\n",
            "Receiving objects: 100% (1002/1002), 14.32 MiB | 12.99 MiB/s, done.\n",
            "Resolving deltas: 100% (667/667), done.\n",
            "Looking in indexes: https://pypi.org/simple, https://us-python.pkg.dev/colab-wheels/public/simple/\n",
            "Collecting pyabf\n",
            "  Downloading pyabf-2.3.7-py3-none-any.whl (53 kB)\n",
            "\u001b[2K     \u001b[90m━━━━━━━━━━━━━━━━━━━━━━━━━━━━━━━━━━━━━━━━\u001b[0m \u001b[32m53.2/53.2 kB\u001b[0m \u001b[31m1.9 MB/s\u001b[0m eta \u001b[36m0:00:00\u001b[0m\n",
            "\u001b[?25hRequirement already satisfied: pytest>=3.0.7 in /usr/local/lib/python3.9/dist-packages (from pyabf) (7.2.2)\n",
            "Requirement already satisfied: matplotlib>=2.1.0 in /usr/local/lib/python3.9/dist-packages (from pyabf) (3.7.1)\n",
            "Requirement already satisfied: numpy>=1.13.3 in /usr/local/lib/python3.9/dist-packages (from pyabf) (1.22.4)\n",
            "Requirement already satisfied: contourpy>=1.0.1 in /usr/local/lib/python3.9/dist-packages (from matplotlib>=2.1.0->pyabf) (1.0.7)\n",
            "Requirement already satisfied: python-dateutil>=2.7 in /usr/local/lib/python3.9/dist-packages (from matplotlib>=2.1.0->pyabf) (2.8.2)\n",
            "Requirement already satisfied: pyparsing>=2.3.1 in /usr/local/lib/python3.9/dist-packages (from matplotlib>=2.1.0->pyabf) (3.0.9)\n",
            "Requirement already satisfied: kiwisolver>=1.0.1 in /usr/local/lib/python3.9/dist-packages (from matplotlib>=2.1.0->pyabf) (1.4.4)\n",
            "Requirement already satisfied: packaging>=20.0 in /usr/local/lib/python3.9/dist-packages (from matplotlib>=2.1.0->pyabf) (23.0)\n",
            "Requirement already satisfied: fonttools>=4.22.0 in /usr/local/lib/python3.9/dist-packages (from matplotlib>=2.1.0->pyabf) (4.39.3)\n",
            "Requirement already satisfied: importlib-resources>=3.2.0 in /usr/local/lib/python3.9/dist-packages (from matplotlib>=2.1.0->pyabf) (5.12.0)\n",
            "Requirement already satisfied: cycler>=0.10 in /usr/local/lib/python3.9/dist-packages (from matplotlib>=2.1.0->pyabf) (0.11.0)\n",
            "Requirement already satisfied: pillow>=6.2.0 in /usr/local/lib/python3.9/dist-packages (from matplotlib>=2.1.0->pyabf) (8.4.0)\n",
            "Requirement already satisfied: attrs>=19.2.0 in /usr/local/lib/python3.9/dist-packages (from pytest>=3.0.7->pyabf) (22.2.0)\n",
            "Requirement already satisfied: tomli>=1.0.0 in /usr/local/lib/python3.9/dist-packages (from pytest>=3.0.7->pyabf) (2.0.1)\n",
            "Requirement already satisfied: exceptiongroup>=1.0.0rc8 in /usr/local/lib/python3.9/dist-packages (from pytest>=3.0.7->pyabf) (1.1.1)\n",
            "Requirement already satisfied: pluggy<2.0,>=0.12 in /usr/local/lib/python3.9/dist-packages (from pytest>=3.0.7->pyabf) (1.0.0)\n",
            "Requirement already satisfied: iniconfig in /usr/local/lib/python3.9/dist-packages (from pytest>=3.0.7->pyabf) (2.0.0)\n",
            "Requirement already satisfied: zipp>=3.1.0 in /usr/local/lib/python3.9/dist-packages (from importlib-resources>=3.2.0->matplotlib>=2.1.0->pyabf) (3.15.0)\n",
            "Requirement already satisfied: six>=1.5 in /usr/local/lib/python3.9/dist-packages (from python-dateutil>=2.7->matplotlib>=2.1.0->pyabf) (1.16.0)\n",
            "Installing collected packages: pyabf\n",
            "Successfully installed pyabf-2.3.7\n"
          ]
        }
      ],
      "source": [
        "'Get Standard Modules'\n",
        "\n",
        "import pandas as pd\n",
        "import numpy as np\n",
        "import matplotlib\n",
        "import matplotlib.pyplot as plt\n",
        "import scipy\n",
        "from scipy import stats\n",
        "import os\n",
        "from scipy.signal import butter,filtfilt\n",
        "from tqdm import tqdm\n",
        "import warnings\n",
        "from IPython.display import clear_output\n",
        "from datetime import datetime\n",
        "import sys\n",
        "import warnings\n",
        "import shutil\n",
        "from google.colab import files\n",
        "warnings.filterwarnings('ignore')\n",
        "np.set_printoptions(threshold=sys.maxsize)\n",
        "clear_output(wait=False)\n",
        "\n",
        "\n",
        "\n",
        "!pip install openpyxl\n",
        "!pip install XlsxWriter\n",
        "\n",
        "\n",
        "'''Get Repositories'''\n",
        "try: shutil.rmtree('/content/EphysLib')\n",
        "except: None\n",
        "\n",
        "\"run dtabuena's ephys notebooks\"\n",
        "!git clone https://github.com/dtabuena/EphysLib\n",
        "to_import = [\n",
        "            'ABF_Quality_Control.ipynb',\n",
        "            'Basic_Ephys.ipynb',\n",
        "            'Simple_ABF_tools.ipynb',\n",
        "            'fun_math.ipynb',\n",
        "            'importing_abfs_from_dropbox.ipynb',\n",
        "            'QC_recoding_dataframe.ipynb',\n",
        "            'Analyzers/input_resistance_analyzer.ipynb',\n",
        "            'Analyzers/gain_analyzer.ipynb',\n",
        "            'Analyzers/latencey_analyzer.ipynb',\n",
        "            'Analyzers/IV_analyzer.ipynb',\n",
        "            'Analyzers/Vm_analyzer.ipynb',\n",
        "            'Analyzers/membrane_analyzer.ipynb',\n",
        "            'Analyzers/rheobase_analyzer.ipynb',\n",
        "            'Ephys_wrapper.ipynb',\n",
        "            ]\n",
        "for i in to_import:\n",
        "    f = '/content/EphysLib/' + i\n",
        "    %run $f"
      ]
    },
    {
      "cell_type": "code",
      "source": [
        "def sample_sweep_publish(abf,plot_ratio = (4,1) ,xlim=[],ylim=[],slim=np.inf,use_ch2 = True,rel_xy_bar=[0.1, 0.1]):\n",
        "    fig,ax = plt.subplots(2,figsize=(4,3),height_ratios=plot_ratio)\n",
        "    for s in abf.sweepList:\n",
        "        if s<slim:\n",
        "            abf.setSweep(s,0)\n",
        "            ax[0].plot(abf.sweepX*1000,abf.sweepY,'k')\n",
        "            if use_ch2:\n",
        "                abf.setSweep(s,1)\n",
        "                ax[1].plot(abf.sweepX*1000,abf.sweepY,'k')\n",
        "            else:\n",
        "                abf.setSweep(s,0)\n",
        "                ax[1].plot(abf.sweepX*1000,abf.sweepC,'k')\n",
        "            # print(abf.adcUnits)\n",
        "    if len(xlim) == 2:\n",
        "        ax[0].set_xlim(xlim)\n",
        "        ax[1].set_xlim(xlim)\n",
        "\n",
        "    \n",
        "\n",
        "    for i in range(len(ax)):\n",
        "        axi = ax[i]\n",
        "        axi.axis('off')\n",
        "        xlim = axi.get_xlim()\n",
        "        x_range = np.diff(xlim)\n",
        "        x_bar_len = x_range*rel_xy_bar[0]\n",
        "        x_bar_len = x_bar_len.astype(\"int\")\n",
        "        x_0 = xlim[1]+x_bar_len*2\n",
        "\n",
        "        ylim = axi.get_ylim()\n",
        "        y_range = np.diff(ylim)\n",
        "        y_bar_len = y_range*rel_xy_bar[1]\n",
        "        y_bar_len = y_bar_len*( np.sum(plot_ratio) / plot_ratio[i] )\n",
        "\n",
        "        y_bar_len=5*np.ceil(y_bar_len/5).astype(\"int\")\n",
        "\n",
        "        y_0 = ylim[0]+y_bar_len\n",
        "\n",
        "\n",
        "        x,y = np.array([[x_0, x_0+x_bar_len], [y_0, y_0]])\n",
        "        x_line = plt.Line2D(x, y, lw=2, color='k', alpha=1)\n",
        "        x_line.set_clip_on(False)\n",
        "\n",
        "        axi.add_line(x_line)\n",
        "\n",
        "\n",
        "        x,y = np.array([[x_0, x_0], [y_0, y_0+y_bar_len]])\n",
        "        y_line = plt.Line2D(x, y, lw=2, color='k', alpha=1)\n",
        "        y_line.set_clip_on(False)\n",
        "\n",
        "        axi.add_line(y_line)\n",
        "\n",
        "\n",
        "\n",
        "        axi.text(x_0+x_bar_len/2, y_0,  str(x_bar_len[0])+'ms',ha='center',va='top')\n",
        "        abf.adcUnits\n",
        "        axi.text(x_0, y_0+y_bar_len/2,  str(y_bar_len[0])+abf.adcUnits[i],ha='right',va='center')\n",
        "\n",
        "        \n",
        "    return None\n",
        "\n",
        "abf= abf_or_name('/content/2022x11x30_E4KI_F_P564_s002_c006_DG_0005.abf')\n",
        "sample_sweep_publish(abf,xlim=[400,1800],slim=3,use_ch2=False,rel_xy_bar=[0.1, 0.18] )\n",
        "\n"
      ],
      "metadata": {
        "colab": {
          "base_uri": "https://localhost:8080/",
          "height": 267
        },
        "id": "E0zA5jplk-eM",
        "outputId": "00f35ea1-1dee-4d75-de58-36e52bc4ee81"
      },
      "execution_count": 93,
      "outputs": [
        {
          "output_type": "display_data",
          "data": {
            "text/plain": [
              "<Figure size 400x300 with 2 Axes>"
            ],
            "image/png": "[encoded data removed]"
          },
          "metadata": {}
        }
      ]
    }
  ]
}
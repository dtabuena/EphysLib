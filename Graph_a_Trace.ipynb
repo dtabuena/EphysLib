{
  "nbformat": 4,
  "nbformat_minor": 0,
  "metadata": {
    "colab": {
      "provenance": [],
      "authorship_tag": "ABX9TyPX4w/cm34nFXMxjGQqlgJG",
      "include_colab_link": true
    },
    "kernelspec": {
      "name": "python3",
      "display_name": "Python 3"
    },
    "language_info": {
      "name": "python"
    }
  },
  "cells": [
    {
      "cell_type": "markdown",
      "metadata": {
        "id": "view-in-github",
        "colab_type": "text"
      },
      "source": [
        "<a href=\"https://colab.research.google.com/github/dtabuena/EphysLib/blob/main/Graph_a_Trace.ipynb\" target=\"_parent\"><img src=\"https://colab.research.google.com/assets/colab-badge.svg\" alt=\"Open In Colab\"/></a>"
      ]
    },
    {
      "cell_type": "code",
      "execution_count": 2,
      "metadata": {
        "colab": {
          "base_uri": "https://localhost:8080/",
          "height": 766
        },
        "id": "igq5Zjykk8mb",
        "outputId": "e4869249-162b-4fd2-f6a1-0c30f8ea9084"
      },
      "outputs": [
        {
          "output_type": "stream",
          "name": "stderr",
          "text": [
            "Cloning into 'EphysLib'...\n"
          ]
        },
        {
          "output_type": "error",
          "ename": "Exception",
          "evalue": "File `'/content/EphysLib/ABF_Quality_Control.ipynb'` not found.",
          "traceback": [
            "\u001b[1;31m---------------------------------------------------------------------------\u001b[0m",
            "\u001b[1;31mOSError\u001b[0m                                   Traceback (most recent call last)",
            "File \u001b[1;32m~\\AppData\\Local\\anaconda3\\envs\\Scanpy\\Lib\\site-packages\\IPython\\core\\magics\\execution.py:716\u001b[0m, in \u001b[0;36mExecutionMagics.run\u001b[1;34m(self, parameter_s, runner, file_finder)\u001b[0m\n\u001b[0;32m    715\u001b[0m     fpath \u001b[38;5;241m=\u001b[39m arg_lst[\u001b[38;5;241m0\u001b[39m]\n\u001b[1;32m--> 716\u001b[0m     filename \u001b[38;5;241m=\u001b[39m file_finder(fpath)\n\u001b[0;32m    717\u001b[0m \u001b[38;5;28;01mexcept\u001b[39;00m \u001b[38;5;167;01mIndexError\u001b[39;00m \u001b[38;5;28;01mas\u001b[39;00m e:\n",
            "File \u001b[1;32m~\\AppData\\Local\\anaconda3\\envs\\Scanpy\\Lib\\site-packages\\IPython\\utils\\path.py:91\u001b[0m, in \u001b[0;36mget_py_filename\u001b[1;34m(name)\u001b[0m\n\u001b[0;32m     90\u001b[0m         \u001b[38;5;28;01mreturn\u001b[39;00m py_name\n\u001b[1;32m---> 91\u001b[0m \u001b[38;5;28;01mraise\u001b[39;00m \u001b[38;5;167;01mIOError\u001b[39;00m(\u001b[38;5;124m\"\u001b[39m\u001b[38;5;124mFile `\u001b[39m\u001b[38;5;132;01m%r\u001b[39;00m\u001b[38;5;124m` not found.\u001b[39m\u001b[38;5;124m\"\u001b[39m \u001b[38;5;241m%\u001b[39m name)\n",
            "\u001b[1;31mOSError\u001b[0m: File `'/content/EphysLib/ABF_Quality_Control.ipynb'` not found.",
            "\nThe above exception was the direct cause of the following exception:\n",
            "\u001b[1;31mException\u001b[0m                                 Traceback (most recent call last)",
            "Cell \u001b[1;32mIn[2], line 53\u001b[0m\n\u001b[0;32m     51\u001b[0m \u001b[38;5;28;01mfor\u001b[39;00m i \u001b[38;5;129;01min\u001b[39;00m to_import:\n\u001b[0;32m     52\u001b[0m     f \u001b[38;5;241m=\u001b[39m \u001b[38;5;124m'\u001b[39m\u001b[38;5;124m/content/EphysLib/\u001b[39m\u001b[38;5;124m'\u001b[39m \u001b[38;5;241m+\u001b[39m i\n\u001b[1;32m---> 53\u001b[0m     get_ipython()\u001b[38;5;241m.\u001b[39mrun_line_magic(\u001b[38;5;124m'\u001b[39m\u001b[38;5;124mrun\u001b[39m\u001b[38;5;124m'\u001b[39m, \u001b[38;5;124m'\u001b[39m\u001b[38;5;124m$f\u001b[39m\u001b[38;5;124m'\u001b[39m)\n",
            "File \u001b[1;32m~\\AppData\\Local\\anaconda3\\envs\\Scanpy\\Lib\\site-packages\\IPython\\core\\interactiveshell.py:2480\u001b[0m, in \u001b[0;36mInteractiveShell.run_line_magic\u001b[1;34m(self, magic_name, line, _stack_depth)\u001b[0m\n\u001b[0;32m   2478\u001b[0m     kwargs[\u001b[38;5;124m'\u001b[39m\u001b[38;5;124mlocal_ns\u001b[39m\u001b[38;5;124m'\u001b[39m] \u001b[38;5;241m=\u001b[39m \u001b[38;5;28mself\u001b[39m\u001b[38;5;241m.\u001b[39mget_local_scope(stack_depth)\n\u001b[0;32m   2479\u001b[0m \u001b[38;5;28;01mwith\u001b[39;00m \u001b[38;5;28mself\u001b[39m\u001b[38;5;241m.\u001b[39mbuiltin_trap:\n\u001b[1;32m-> 2480\u001b[0m     result \u001b[38;5;241m=\u001b[39m fn(\u001b[38;5;241m*\u001b[39margs, \u001b[38;5;241m*\u001b[39m\u001b[38;5;241m*\u001b[39mkwargs)\n\u001b[0;32m   2482\u001b[0m \u001b[38;5;66;03m# The code below prevents the output from being displayed\u001b[39;00m\n\u001b[0;32m   2483\u001b[0m \u001b[38;5;66;03m# when using magics with decorator @output_can_be_silenced\u001b[39;00m\n\u001b[0;32m   2484\u001b[0m \u001b[38;5;66;03m# when the last Python token in the expression is a ';'.\u001b[39;00m\n\u001b[0;32m   2485\u001b[0m \u001b[38;5;28;01mif\u001b[39;00m \u001b[38;5;28mgetattr\u001b[39m(fn, magic\u001b[38;5;241m.\u001b[39mMAGIC_OUTPUT_CAN_BE_SILENCED, \u001b[38;5;28;01mFalse\u001b[39;00m):\n",
            "File \u001b[1;32m~\\AppData\\Local\\anaconda3\\envs\\Scanpy\\Lib\\site-packages\\IPython\\core\\magics\\execution.py:727\u001b[0m, in \u001b[0;36mExecutionMagics.run\u001b[1;34m(self, parameter_s, runner, file_finder)\u001b[0m\n\u001b[0;32m    725\u001b[0m     \u001b[38;5;28;01mif\u001b[39;00m os\u001b[38;5;241m.\u001b[39mname \u001b[38;5;241m==\u001b[39m \u001b[38;5;124m'\u001b[39m\u001b[38;5;124mnt\u001b[39m\u001b[38;5;124m'\u001b[39m \u001b[38;5;129;01mand\u001b[39;00m re\u001b[38;5;241m.\u001b[39mmatch(\u001b[38;5;124mr\u001b[39m\u001b[38;5;124m\"\u001b[39m\u001b[38;5;124m^\u001b[39m\u001b[38;5;124m'\u001b[39m\u001b[38;5;124m.*\u001b[39m\u001b[38;5;124m'\u001b[39m\u001b[38;5;124m$\u001b[39m\u001b[38;5;124m\"\u001b[39m,fpath):\n\u001b[0;32m    726\u001b[0m         warn(\u001b[38;5;124m'\u001b[39m\u001b[38;5;124mFor Windows, use double quotes to wrap a filename: \u001b[39m\u001b[38;5;132;01m%r\u001b[39;00m\u001b[38;5;124mun \u001b[39m\u001b[38;5;124m\"\u001b[39m\u001b[38;5;124mmypath\u001b[39m\u001b[38;5;130;01m\\\\\u001b[39;00m\u001b[38;5;124mmyfile.py\u001b[39m\u001b[38;5;124m\"\u001b[39m\u001b[38;5;124m'\u001b[39m)\n\u001b[1;32m--> 727\u001b[0m     \u001b[38;5;28;01mraise\u001b[39;00m \u001b[38;5;167;01mException\u001b[39;00m(msg) \u001b[38;5;28;01mfrom\u001b[39;00m \u001b[38;5;21;01me\u001b[39;00m\n\u001b[0;32m    728\u001b[0m \u001b[38;5;28;01mexcept\u001b[39;00m \u001b[38;5;167;01mTypeError\u001b[39;00m:\n\u001b[0;32m    729\u001b[0m     \u001b[38;5;28;01mif\u001b[39;00m fpath \u001b[38;5;129;01min\u001b[39;00m sys\u001b[38;5;241m.\u001b[39mmeta_path:\n",
            "\u001b[1;31mException\u001b[0m: File `'/content/EphysLib/ABF_Quality_Control.ipynb'` not found."
          ]
        }
      ],
      "source": [
        "# 'Get Standard Modules'\n",
        "\n",
        "# import pandas as pd\n",
        "# import numpy as np\n",
        "# import matplotlib\n",
        "# import matplotlib.pyplot as plt\n",
        "# import scipy\n",
        "# from scipy import stats\n",
        "# import os\n",
        "# from scipy.signal import butter,filtfilt\n",
        "# from tqdm import tqdm\n",
        "# import warnings\n",
        "# from IPython.display import clear_output\n",
        "# from datetime import datetime\n",
        "# import sys\n",
        "# import warnings\n",
        "# import shutil\n",
        "# from google.colab import files\n",
        "# warnings.filterwarnings('ignore')\n",
        "# np.set_printoptions(threshold=sys.maxsize)\n",
        "# clear_output(wait=False)\n",
        "\n",
        "\n",
        "\n",
        "# !pip install openpyxl\n",
        "# !pip install XlsxWriter\n",
        "\n",
        "\n",
        "'''Get Repositories'''\n",
        "try: shutil.rmtree('/content/EphysLib')\n",
        "except: None\n",
        "\n",
        "\"run dtabuena's ephys notebooks\"\n",
        "!git clone https://github.com/dtabuena/EphysLib\n",
        "to_import = [\n",
        "            'ABF_Quality_Control.ipynb',\n",
        "            'Basic_Ephys.ipynb',\n",
        "            'Simple_ABF_tools.ipynb',\n",
        "            'fun_math.ipynb',\n",
        "            'importing_abfs_from_dropbox.ipynb',\n",
        "            'QC_recoding_dataframe.ipynb',\n",
        "            'Analyzers/input_resistance_analyzer.ipynb',\n",
        "            'Analyzers/gain_analyzer.ipynb',\n",
        "            'Analyzers/latencey_analyzer.ipynb',\n",
        "            'Analyzers/IV_analyzer.ipynb',\n",
        "            'Analyzers/Vm_analyzer.ipynb',\n",
        "            'Analyzers/membrane_analyzer.ipynb',\n",
        "            'Analyzers/rheobase_analyzer.ipynb',\n",
        "            'Ephys_wrapper.ipynb',\n",
        "            ]\n",
        "for i in to_import:\n",
        "    f = '/content/EphysLib/' + i\n",
        "    %run $f"
      ]
    },
    {
      "cell_type": "code",
      "source": [
        "# !wget 'https://www.dropbox.com/s/j0ts1hpt76xzvdq/arial.ttf'\n",
        "# import matplotlib as mpl\n",
        "# mpl.font_manager.fontManager.addfont('/content/arial.ttf')\n",
        "\n",
        "import pandas as pd\n",
        "import numpy as np\n",
        "import matplotlib\n",
        "import matplotlib.pyplot as plt\n",
        "import pyabf\n",
        "\n",
        "\n",
        "def sample_sweep_publish(abf,plot_ratio = (4,1) ,xlim=[],ylim=[],slim=np.inf,swp_list=[],use_ch2 = True,rel_xy_bar=[0.1, 0.1],base=[-70,0] ):\n",
        "    plt.rcParams.update({'font.size': 10,'font.family': 'arial'})\n",
        "    fig,ax = plt.subplots(2,figsize=(3,4),height_ratios=plot_ratio)\n",
        "\n",
        "    swp_list = swp_list.tolist()\n",
        "    # print(swp_list)\n",
        "    sweeps = abf.sweepList\n",
        "    if len(swp_list)>0:\n",
        "        sweeps = [s for s in sweeps if s in swp_list]\n",
        "    sweeps = [s for s in sweeps if s<slim]\n",
        "\n",
        "    for s in sweeps:\n",
        "        abf.setSweep(s,0)\n",
        "        ax[0].plot(abf.sweepX*1000,abf.sweepY,'k')\n",
        "        if use_ch2:\n",
        "            abf.setSweep(s,1)\n",
        "            ax[1].plot(abf.sweepX*1000,abf.sweepY,'k')\n",
        "        else:\n",
        "            abf.setSweep(s,0)\n",
        "            ax[1].plot(abf.sweepX*1000,abf.sweepC,'k')\n",
        "        # print(abf.adcUnits)\n",
        "    if len(xlim) == 2:\n",
        "        ax[0].set_xlim(xlim)\n",
        "        ax[1].set_xlim(xlim)\n",
        "\n",
        "\n",
        "\n",
        "    for i in range(len(ax)):\n",
        "        axi = ax[i]\n",
        "        axi.axis('off')\n",
        "        xlim = axi.get_xlim()\n",
        "        x_range = np.diff(xlim)\n",
        "        x_bar_len = x_range*rel_xy_bar[0]\n",
        "        x_bar_len = x_bar_len.astype(\"int\")\n",
        "        x_0 = xlim[1]+x_bar_len*2\n",
        "\n",
        "        ylim = axi.get_ylim()\n",
        "        y_range = np.diff(ylim)\n",
        "        y_bar_len = y_range*rel_xy_bar[1]\n",
        "        y_bar_len = y_bar_len*( np.sum(plot_ratio) / plot_ratio[i] )\n",
        "\n",
        "        y_bar_len=5*np.ceil(y_bar_len/5).astype(\"int\")\n",
        "\n",
        "        y_0 = ylim[0]+y_bar_len\n",
        "\n",
        "        lw = 2\n",
        "\n",
        "        x,y = np.array([[x_0, x_0+x_bar_len], [y_0, y_0]])\n",
        "        x_line = plt.Line2D(x, y, lw=lw, color='k', alpha=1)\n",
        "        x_line.set_clip_on(False)\n",
        "\n",
        "        axi.add_line(x_line)\n",
        "\n",
        "\n",
        "        x,y = np.array([[x_0, x_0], [y_0, y_0+y_bar_len]])\n",
        "        y_line = plt.Line2D(x, y, lw=lw, color='k', alpha=1)\n",
        "        y_line.set_clip_on(False)\n",
        "\n",
        "        axi.add_line(y_line)\n",
        "\n",
        "\n",
        "\n",
        "        axi.text(x_0+x_bar_len/2, y_0-y_bar_len*.1,  str(x_bar_len[0])+'ms',ha='center',va='top')\n",
        "        abf.adcUnits\n",
        "        axi.text(x_0, y_0+y_bar_len/2,  str(y_bar_len[0])+abf.adcUnits[i]+' ',ha='right',va='center')\n",
        "\n",
        "\n",
        "        axi.text(xlim[0],base[i],str(base[i]) + abf.adcUnits[i]+' ',ha='right',va='center')\n",
        "\n",
        "    abf.setSweep(0,0)\n",
        "    return None\n",
        "\n",
        "###################\n",
        "\n",
        "\n",
        "\n"
      ],
      "metadata": {
        "id": "E0zA5jplk-eM"
      },
      "execution_count": 10,
      "outputs": []
    },
    {
      "cell_type": "code",
      "source": [
        "\n",
        "\"Firing_Gain_2025x03x14_PreOA_S6_0011\"\n",
        "abf = pyabf.ABF(r'C:\\Users\\dennis.tabuena\\Gladstone Dropbox\\Dennis Tabuena\\0_Projects\\_NPRS_Project\\Recs\\2025x03x14\\2025x03x14_PreOA_S6_0011.abf')\n",
        "sample_sweep_publish(abf,xlim=[400,1800],swp_list = np.arange(0,6),use_ch2=False,rel_xy_bar=[0.1, 0.1],base=[-70,0] )\n"
      ],
      "metadata": {
        "id": "de7elVSVTxw0",
        "outputId": "c40ee4fb-42a0-4828-b659-29be6a2af99e",
        "colab": {
          "base_uri": "https://localhost:8080/",
          "height": 349
        }
      },
      "execution_count": 13,
      "outputs": [
        {
          "output_type": "display_data",
          "data": {
            "text/plain": [
              "<Figure size 300x400 with 2 Axes>"
            ],
            "image/png": "[encoded data removed]"
          },
          "metadata": {}
        }
      ]
    }
  ]
}
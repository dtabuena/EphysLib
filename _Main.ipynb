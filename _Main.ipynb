{
  "nbformat": 4,
  "nbformat_minor": 0,
  "metadata": {
    "colab": {
      "name": "_Main.ipynb",
      "provenance": [],
      "authorship_tag": "ABX9TyMR+iTaUX32JycgnBAe21Ge",
      "include_colab_link": true
    },
    "kernelspec": {
      "name": "python3",
      "display_name": "Python 3"
    },
    "language_info": {
      "name": "python"
    }
  },
  "cells": [
    {
      "cell_type": "markdown",
      "metadata": {
        "id": "view-in-github",
        "colab_type": "text"
      },
      "source": [
        "<a href=\"https://colab.research.google.com/github/dtabuena/EphysLib/blob/main/_Main.ipynb\" target=\"_parent\"><img src=\"https://colab.research.google.com/assets/colab-badge.svg\" alt=\"Open In Colab\"/></a>"
      ]
    },
    {
      "cell_type": "code",
      "source": [
        "'Get Standard Modules'\n",
        "\n",
        "import pandas as pd\n",
        "import numpy as np\n",
        "import matplotlib\n",
        "import matplotlib.pyplot as plt\n",
        "import scipy\n",
        "from scipy import stats\n",
        "import os\n",
        "from scipy.signal import butter,filtfilt\n",
        "from tqdm import tqdm\n",
        "import warnings\n",
        "from IPython.display import clear_output\n",
        "from datetime import datetime\n",
        "import sys\n",
        "import warnings\n",
        "from google.colab import files\n",
        "warnings.filterwarnings('ignore')\n",
        "np.set_printoptions(threshold=sys.maxsize)\n",
        "clear_output(wait=False)"
      ],
      "metadata": {
        "id": "JB3cLtpu5iXZ"
      },
      "execution_count": 1,
      "outputs": []
    },
    {
      "cell_type": "code",
      "source": [
        "\"run dtabuena's ephys notebooks\"\n",
        "!git clone https://github.com/dtabuena/EphysLib\n",
        "\n",
        "to_import = ['ABF_Quality_Control.ipynb',\n",
        "          'Basic_Ephys.ipynb',\n",
        "          'Firing_Rate_Gain.ipynb',\n",
        "          'Simple_ABF_tools.ipynb',\n",
        "          'analyze_IV.ipynb',\n",
        "          'analyze_memtest.ipynb',\n",
        "          'analyze_rheobase.ipynb',\n",
        "          'fun_math.ipynb',\n",
        "          'importing_abfs_from_dropbox.ipynb',\n",
        "          'inputR_from_Iclamp.ipynb',\n",
        "          'spike_latency.ipynb']\n",
        "\n",
        "for i in to_import:\n",
        "    f = '/content/EphysLib/' + i\n",
        "    %run $f\n"
      ],
      "metadata": {
        "colab": {
          "base_uri": "https://localhost:8080/"
        },
        "id": "w4lZ-pjFGrf_",
        "outputId": "825ed411-4cfa-49f1-c70e-e9b5ef9a2755"
      },
      "execution_count": 2,
      "outputs": [
        {
          "output_type": "stream",
          "name": "stdout",
          "text": [
            "Cloning into 'EphysLib'...\n",
            "remote: Enumerating objects: 85, done.\u001b[K\n",
            "remote: Counting objects: 100% (85/85), done.\u001b[K\n",
            "remote: Compressing objects: 100% (83/83), done.\u001b[K\n",
            "remote: Total 85 (delta 42), reused 0 (delta 0), pack-reused 0\u001b[K\n",
            "Unpacking objects: 100% (85/85), done.\n",
            "Looking in indexes: https://pypi.org/simple, https://us-python.pkg.dev/colab-wheels/public/simple/\n",
            "Collecting pyabf\n",
            "  Downloading pyabf-2.3.6-py3-none-any.whl (53 kB)\n",
            "\u001b[K     |████████████████████████████████| 53 kB 1.5 MB/s \n",
            "\u001b[?25hRequirement already satisfied: pytest>=3.0.7 in /usr/local/lib/python3.7/dist-packages (from pyabf) (3.6.4)\n",
            "Requirement already satisfied: numpy>=1.13.3 in /usr/local/lib/python3.7/dist-packages (from pyabf) (1.21.6)\n",
            "Requirement already satisfied: matplotlib>=2.1.0 in /usr/local/lib/python3.7/dist-packages (from pyabf) (3.2.2)\n",
            "Requirement already satisfied: pyparsing!=2.0.4,!=2.1.2,!=2.1.6,>=2.0.1 in /usr/local/lib/python3.7/dist-packages (from matplotlib>=2.1.0->pyabf) (3.0.9)\n",
            "Requirement already satisfied: python-dateutil>=2.1 in /usr/local/lib/python3.7/dist-packages (from matplotlib>=2.1.0->pyabf) (2.8.2)\n",
            "Requirement already satisfied: kiwisolver>=1.0.1 in /usr/local/lib/python3.7/dist-packages (from matplotlib>=2.1.0->pyabf) (1.4.4)\n",
            "Requirement already satisfied: cycler>=0.10 in /usr/local/lib/python3.7/dist-packages (from matplotlib>=2.1.0->pyabf) (0.11.0)\n",
            "Requirement already satisfied: typing-extensions in /usr/local/lib/python3.7/dist-packages (from kiwisolver>=1.0.1->matplotlib>=2.1.0->pyabf) (4.1.1)\n",
            "Requirement already satisfied: py>=1.5.0 in /usr/local/lib/python3.7/dist-packages (from pytest>=3.0.7->pyabf) (1.11.0)\n",
            "Requirement already satisfied: pluggy<0.8,>=0.5 in /usr/local/lib/python3.7/dist-packages (from pytest>=3.0.7->pyabf) (0.7.1)\n",
            "Requirement already satisfied: six>=1.10.0 in /usr/local/lib/python3.7/dist-packages (from pytest>=3.0.7->pyabf) (1.15.0)\n",
            "Requirement already satisfied: attrs>=17.4.0 in /usr/local/lib/python3.7/dist-packages (from pytest>=3.0.7->pyabf) (22.1.0)\n",
            "Requirement already satisfied: more-itertools>=4.0.0 in /usr/local/lib/python3.7/dist-packages (from pytest>=3.0.7->pyabf) (8.14.0)\n",
            "Requirement already satisfied: atomicwrites>=1.0 in /usr/local/lib/python3.7/dist-packages (from pytest>=3.0.7->pyabf) (1.4.1)\n",
            "Requirement already satisfied: setuptools in /usr/local/lib/python3.7/dist-packages (from pytest>=3.0.7->pyabf) (57.4.0)\n",
            "Installing collected packages: pyabf\n",
            "Successfully installed pyabf-2.3.6\n"
          ]
        }
      ]
    },
    {
      "cell_type": "code",
      "source": [
        "'Import and catalog source data'\n",
        "'RNF182 Dropbox'\n",
        "data_source = \"https://www.dropbox.com/sh/n9t8p257wnzlijk/AAC9Z36JodisyZjnM3mkJC3Xa?dl=0\"\n",
        "file_loc = get_drobox_folder(data_source, 'my_ephys_data.zip')\n",
        "clear_output(wait=False)\n",
        "file_naming_scheme = ['Rec_date','Virus','GenoType','Sex','Age','Slice_Num','Cell_num','Cell_Type']\n",
        "abf_recordings_df,protocol_set = catalogue_recs(file_loc,file_naming_scheme)\n",
        "print('Protocol_Names:')\n",
        "_ = [print(p) for p in protocol_set]"
      ],
      "metadata": {
        "id": "MYTtLS5v5V-J",
        "outputId": "bdc25fa6-d2f6-4517-ef7d-fa2ee3424f2b",
        "colab": {
          "base_uri": "https://localhost:8080/"
        }
      },
      "execution_count": 39,
      "outputs": [
        {
          "output_type": "stream",
          "name": "stdout",
          "text": [
            "Protocol_Names:\n",
            "IC - Sag - D50pA\n",
            "VC - Multi IV - 150ms\n",
            "VC - MemTest-10ms-160ms\n",
            "IC - R input\n",
            "IC - Latentcy 800pA-1s\n",
            "VC - 3min GapFree\n",
            "IC - Rheobase\n",
            "IC - Gain - D50pA\n"
          ]
        }
      ]
    },
    {
      "cell_type": "code",
      "source": [
        "VC_prot = ['VC - MemTest-10ms-160ms',\n",
        "           'VC - Multi IV - 150ms',\n",
        "           'VC - 3min GapFree',\n",
        "           'VC - Spontaneous-3min-(MT)']\n",
        "IC_prot = ['IC - Gain - D20pA',\n",
        "           'IC - Gain - D50pA',\n",
        "           'IC - Rheobase',\n",
        "           'IC - R input',\n",
        "           'IC - Latentcy 800pA-1s']\n",
        "\n",
        "abf_recordings_df, _ = purge_wrong_clamp(abf_recordings_df,VC_prot,IC_prot)"
      ],
      "metadata": {
        "id": "7A4t8U0ea33E"
      },
      "execution_count": null,
      "outputs": []
    },
    {
      "cell_type": "code",
      "source": [
        "def qc_sweep(abf, sampleRate, qc_args=True, to_plot=False):\n",
        "    'Recieves a sweep and and calculates leak, noise and holding potential'\n",
        "    'returns a dict of calculated values and a dict of boolean indicating'\n",
        "    'pass/fail, (True/False)'\n",
        "\n",
        "\n",
        "    if qc_args: qc_args = { 'max_leak': 100, 'HF_noise': 10,'HF_window': 0.015, 'LF_noise':10, 'IC_Vm_range':5, 'stim_buffer':250}\n",
        "\n",
        "    abf = abf_or_name(abf)\n",
        "    \n",
        "    results={}\n",
        "\n",
        "    buffer_mask = movmean((sweepC==sweepC[0])*1, qc_args['stim_buffer']/1000*sampleRate)==1\n",
        "    no_stim_x = abf.sweepX[buffer_mask]\n",
        "    no_stim_cmd = abf.sweepC[buffer_mask]\n",
        "    no_stim_y = abf.sweepY[buffer_mask]\n",
        "\n",
        "    baseline_y = np.mean( no_stim_y )\n",
        "    baseline_cmd = np.mean( no_stim_cmd )\n",
        "\n",
        "    if 'mV' in abf.sweepLabelY:\n",
        "        results['Vhold'] = baseline_y\n",
        "        results['Ihold'] = baseline_cmd\n",
        "    else:\n",
        "        results['Ihold'] = baseline_y\n",
        "        results['Vhold'] = baseline_cmd\n"
      ],
      "metadata": {
        "id": "VHgUykgDnSWt"
      },
      "execution_count": null,
      "outputs": []
    },
    {
      "cell_type": "code",
      "source": [
        "def qc_sweep(sweepX,sweepC,sweepY,command_offset,is_IC,is_VC,sampleRate,\n",
        "             max_leak=100, \n",
        "             max_high_freq_noise = 10,\n",
        "             max_low_freq_noise = 10,\n",
        "             Vhold_range = 5, to_plot=False):\n",
        "    'Recieves a sweep and and calculates leak, noise and holding potential'\n",
        "    'returns a dict of calculated values and a dict of boolean indicating'\n",
        "    'pass/fail, (True/False)'\n",
        "\n",
        "    \n",
        "\n",
        "\n",
        "    stim_buffer_time = 250 #ms\n",
        "    filtered_command = movmean((sweepC==sweepC[0])*1, stim_buffer_time/1000*sampleRate)\n",
        "    ss_no_stim_bool = filtered_command==1\n",
        "    ss_no_stim_idx = np.arange(len(ss_no_stim_bool))[ss_no_stim_bool]\n",
        "    no_stim_sig = sweepY[ss_no_stim_bool]\n",
        "    no_stim_t = sweepX[ss_no_stim_idx]\n",
        "    baseline = np.mean( no_stim_sig )\n",
        "\n",
        "    QC_checks = {}\n",
        "    QC_values = {}\n",
        "    if is_IC:\n",
        "        QC_values['V_hold'] = baseline\n",
        "        QC_values['I_leak'] = command_offset\n",
        "    if is_VC:\n",
        "        QC_values['V_hold'] = command_offset\n",
        "        QC_values['I_leak'] = baseline\n",
        "    \n",
        "    QC_checks['V_hold'] = abs(QC_values['V_hold'] - -70)< Vhold_range\n",
        "    QC_checks['I_leak'] = QC_values['I_leak']<max_leak\n",
        "\n",
        "\n",
        "    \n",
        "    HF_noise_idx = ss_no_stim_idx[:int(0.0015*sampleRate)]\n",
        "    HF_noise_signal = sweepY[ HF_noise_idx ] \n",
        "    HF_noise = rms_noise(HF_noise_signal)     \n",
        "    \n",
        "    QC_checks['HF_noise'] = HF_noise<max_high_freq_noise\n",
        "    QC_values['HF_noise'] = HF_noise\n",
        "    \n",
        "    LF_noise_idx = ss_no_stim_idx[-int(0.1*sampleRate):] \n",
        "    if int(0.1*sampleRate)>len(LF_noise_idx): LF_noise_idx = np.random.choice(LF_noise_idx, size=int(0.1*sampleRate))\n",
        "    LF_noise_signal = sweepY[ LF_noise_idx ] \n",
        "    LF_noise = rms_noise(LF_noise_signal)\n",
        "    QC_checks['LF_noise'] = LF_noise<max_low_freq_noise\n",
        "    QC_values['LF_noise'] = LF_noise\n",
        "\n",
        "    HF_noise_time = sweepX[HF_noise_idx]\n",
        "    LF_noise_time = sweepX[LF_noise_idx]\n",
        "    LF_noise_time = np.sort(np.array(list(set(LF_noise_time))))\n",
        "\n",
        "    return QC_checks, QC_values, [HF_noise_time, LF_noise_time]"
      ],
      "metadata": {
        "id": "S46vR_epmT_g"
      },
      "execution_count": null,
      "outputs": []
    },
    {
      "cell_type": "code",
      "source": [
        "\n",
        "\n",
        "\n",
        "\n",
        "\n",
        "\n",
        "\n",
        "\n",
        "\n",
        "\n",
        "def purge_wrong_clamp(abf_recordings_df,VC_prot,IC_prot,verbose=False, to_plot=False):\n",
        "    VC_match_list, IC_match_list = search_wrong_clamp(abf_recordings_df,VC_prot,IC_prot)\n",
        "    both_good = [VC_match_list[i] and IC_match_list[i] for i in range(len(IC_match_list))]\n",
        "    abf_recordings_df_purge = abf_recordings_df[both_good]\n",
        "    both_bad = [not(a) for a in both_good]\n",
        "    \n",
        "    bad_file_names = abf_recordings_df.index[both_bad]\n",
        "    if verbose:\n",
        "        print('Bad files:')\n",
        "        _ = [print('     ',f) for f in bad_file_names]\n",
        "    if to_plot:\n",
        "        for f in bad_file_names:\n",
        "            plot_sweeps_and_command(f)\n",
        "\n",
        "\n",
        "    return abf_recordings_df_purge, bad_file_names\n",
        "\n",
        "def search_wrong_clamp(abf_recordings_df,VC_prot,IC_prot):\n",
        "    'takes a df with an index of filename and checks for correct clamping'\n",
        "    VC_match_list = []\n",
        "    IC_match_list = []\n",
        "    for f in abf_recordings_df.index:\n",
        "        is_VC = clamp_check(f)['is_VC']\n",
        "        is_VC_prot = abf_recordings_df.loc[f,'protocol'] in VC_prot\n",
        "        VC_match_list.append(is_VC == is_VC_prot)\n",
        "\n",
        "        is_IC = clamp_check(f)['is_VC']\n",
        "        is_IC_prot = abf_recordings_df.loc[f,'protocol'] in IC_prot\n",
        "        IC_match_list.append(is_IC == is_VC_prot)\n",
        "    return VC_match_list, IC_match_list\n",
        "\n",
        "\n",
        "\n",
        "def clamp_check(abf):\n",
        "    abf = abf_or_name(abf)\n",
        "    if 'mV' in abf.sweepLabelY:\n",
        "        is_IC = True\n",
        "        is_VC = False\n",
        "    if 'pA' in abf.sweepLabelY:\n",
        "        is_IC = False\n",
        "        is_VC = True\n",
        "    return {'is_IC': is_IC, 'is_VC': is_VC}"
      ],
      "metadata": {
        "id": "BDOWDYP37T1j"
      },
      "execution_count": null,
      "outputs": []
    }
  ]
}
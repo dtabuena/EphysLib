{
  "nbformat": 4,
  "nbformat_minor": 0,
  "metadata": {
    "colab": {
      "name": "spike_latency.ipynb",
      "provenance": [],
      "authorship_tag": "ABX9TyPaTRZoBo2eMaEwHDFfFXss",
      "include_colab_link": true
    },
    "kernelspec": {
      "name": "python3",
      "display_name": "Python 3"
    },
    "language_info": {
      "name": "python"
    }
  },
  "cells": [
    {
      "cell_type": "markdown",
      "metadata": {
        "id": "view-in-github",
        "colab_type": "text"
      },
      "source": [
        "<a href=\"https://colab.research.google.com/github/dtabuena/EphysLib/blob/main/spike_latency.ipynb\" target=\"_parent\"><img src=\"https://colab.research.google.com/assets/colab-badge.svg\" alt=\"Open In Colab\"/></a>"
      ]
    },
    {
      "cell_type": "code",
      "execution_count": null,
      "metadata": {
        "id": "o5aVvnJR0ayc"
      },
      "outputs": [],
      "source": [
        "####################### SPIKE LATENCY #######################\n",
        "\n",
        "def Spike_latency(abf_recordings_df, protocol_aliases,to_plot=False):\n",
        "    'Loops through abfs and calcualtes the time to first action potential'\n",
        "    'during a ramp current stimulation'\n",
        "\n",
        "\n",
        "    correct_protocol = [ p in protocol_aliases for p in abf_recordings_df['protocol']]\n",
        "    # print(np.sum(correct_protocol),'files to analyze...')\n",
        "    for file_name in tqdm( abf_recordings_df.index[correct_protocol]): #tqdm( ) : \n",
        "        abf = pyabf.ABF( file_name )\n",
        "        # pass_rate, passing_sweeps, QC_check_df, QC_val_df = Vclamp_QC(file_name,to_plot=False,verbose=False)\n",
        "        passing_sweeps=abf_recordings_df.at[file_name,'passing_sweeps']\n",
        "        latencey_list = []\n",
        "        v_hold_list = []\n",
        "        \n",
        "\n",
        "        for s in abf.sweepList:\n",
        "            abf.setSweep(s)\n",
        "            # plot_sweeps_and_command(abf)\n",
        "            latencey, v_hold = analyze_ramp_sweep(abf.sweepX,abf.sweepY,abf.sweepC,\n",
        "                                              abf.sampleRate,to_plot=to_plot)\n",
        "            latencey_list.append(latencey)\n",
        "            v_hold_list.append(v_hold)\n",
        "        latencey_list =np.array(latencey_list)\n",
        "        v_hold_list =np.array(v_hold_list)\n",
        "        # if len(passing_sweeps)==0:\n",
        "        #     abf_recordings_df.at[file_name,'Spike_Latency_(ms)'] = np.nan\n",
        "        #     abf_recordings_df.at[file_name,'V_hold_(Latency)'] = np.nan\n",
        "        # else:      \n",
        "        # #     latencey_list = latencey_list[passing_sweeps]\n",
        "        # #     v_hold_list = v_hold_list[passing_sweeps]\n",
        "        abf_recordings_df.at[file_name,'Spike_Latency_(ms)'] = np.median(latencey_list)\n",
        "        abf_recordings_df.at[file_name,'V_hold_(Latency)'] = np.median(v_hold_list)\n",
        "    return abf_recordings_df\n",
        "        \n",
        "        \n",
        "def analyze_ramp_sweep(sweepX,sweepY,sweepC,rate,to_plot=False):\n",
        "    'Receives sweep data and finds the first AP and returns it.'\n",
        "    'Also retuns Vhold for quality control.'\n",
        "    is_base = sweepC==sweepC[0]\n",
        "    is_stim = np.logical_not(sweepC==sweepC[0])\n",
        "    ramp_start_ind = np.min(np.where(is_base==False))\n",
        "    v_hold = np.mean( sweepY[0:ramp_start_ind])\n",
        "    # print(sweepX,sweepY)\n",
        "\n",
        "    spike_args = {'spike_thresh':10,\n",
        "                    'high_dv_thresh': 25,\n",
        "                    'low_dv_thresh': -5,\n",
        "                     'window_ms': 2}\n",
        "\n",
        "    dVds, over_thresh, inds, mean_spike_rate = find_spike_in_trace(sweepY, rate,spike_args,is_stim=is_stim)\n",
        " \n",
        "    if len(inds)==0:\n",
        "        # print('no spikes found')\n",
        "        return np.nan,v_hold\n",
        "    latencey = sweepX[np.min(inds)-ramp_start_ind]*1000\n",
        "    if to_plot:\n",
        "        # plt.scatter(sweepX,dVds,color='k')\n",
        "        plt.plot(sweepX,sweepY,color='k')\n",
        "        plt.scatter(sweepX[inds],sweepY[inds],color='r' )\n",
        "        zoom_x_relativ = np.array([ 0.75, 1.5])\n",
        "        zoom_x = zoom_x_relativ*(latencey/1000+sweepX[ramp_start_ind])\n",
        "        # print('zoom_x',zoom_x)\n",
        "        # print('latencey',latencey)\n",
        "        # print('sweepX[ramp_start_ind]',sweepX[ramp_start_ind])\n",
        "        # print('ramp_start_ind',ramp_start_ind)\n",
        "        plt.gca().set_xlim(zoom_x)\n",
        "        plt.show()\n",
        "\n",
        "    return latencey, v_hold"
      ]
    }
  ]
}
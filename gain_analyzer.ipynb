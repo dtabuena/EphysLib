{
  "nbformat": 4,
  "nbformat_minor": 0,
  "metadata": {
    "colab": {
      "provenance": [],
      "authorship_tag": "ABX9TyNzvxQ2XfBwUxAHyiSVuPCG",
      "include_colab_link": true
    },
    "kernelspec": {
      "name": "python3",
      "display_name": "Python 3"
    },
    "language_info": {
      "name": "python"
    }
  },
  "cells": [
    {
      "cell_type": "markdown",
      "metadata": {
        "id": "view-in-github",
        "colab_type": "text"
      },
      "source": [
        "<a href=\"https://colab.research.google.com/github/dtabuena/EphysLib/blob/main/gain_analyzer.ipynb\" target=\"_parent\"><img src=\"https://colab.research.google.com/assets/colab-badge.svg\" alt=\"Open In Colab\"/></a>"
      ]
    },
    {
      "cell_type": "code",
      "execution_count": null,
      "metadata": {
        "id": "nkBjYgPi-1Mp"
      },
      "outputs": [],
      "source": [
        "def gain_analyzer(abf,spike_args =  {'spike_thresh':10, 'high_dv_thresh': 25,'low_dv_thresh': -5,'window_ms': 2}, R2_thresh = 0.8, to_plot = 0):\n",
        "    'Analyze Single ABF of increasing current injections for firing rate gain'\n",
        "    'to_plot scales from 0:2, no plot, plot just the final fitting, plot every sweep for spike detection'\n",
        "\n",
        "    results= {} # init results dict\n",
        "    if len(abf.sweepList)<5: return results # not enough sweeps to analyze\n",
        "\n",
        "    is_base, is_stim = protocol_baseline_and_stim(abf) # find base lines and stims\n",
        "    stim_currents, spike_counts, spike_rates,_,v_before_stim, fire_dur = spikes_per_stim(abf,spike_args, mode='count', to_plot=to_plot)\n",
        "\n",
        "    if sum(spike_counts)==0: return results   #if no spikes return none\n",
        "    if_fit = fit_firing_gain( stim_currents, spike_counts, spike_rates ,to_plot=to_plot>0)\n",
        "\n",
        "\n",
        "    results['Gain_(Hz/pA)']=if_fit['slope']\n",
        "    results['Gain_R2']=if_fit['R2']\n",
        "    results['Stim_Levels_(pA)']=stim_currents\n",
        "    results['Spike_Counts']=spike_counts\n",
        "    results['Firing_Duration_%']=fire_dur\n",
        "    results['Gain_Vh']=v_before_stim\n",
        "\n",
        "    return results"
      ]
    },
    {
      "cell_type": "code",
      "source": [
        "'Functions for Basic analysis of firing rate gain parameters'\n",
        "'requires: numpy (np), pandas (pd), pyabf (pyabf) , matplotlib'\n",
        "# from matplotlib import pyplot as plt\n",
        "\n",
        "def len_one(x):\n",
        "    try:\n",
        "        return len(x)\n",
        "    except:\n",
        "        return 1\n",
        "\n",
        "\n",
        "def fit_firing_gain(stim_currents, spike_counts, spike_rates, to_plot=False):\n",
        "    'Gathers the firing rate of each stimuli and fits the linear portion of the curve to return the Gain in Hz/pA (the slope)'\n",
        "    is_pos_slope = np.diff(spike_counts,prepend=0)>0\n",
        "    is_pos_slope = movmean(np.diff(spike_counts,prepend=0),4)>0\n",
        "    peak_ind = np.where(spike_counts==np.max(spike_counts))[0]\n",
        "    if len(peak_ind)>1:\n",
        "        peak_ind = np.min(peak_ind)\n",
        "    \n",
        "    before_peak = np.arange(len(spike_counts))<peak_ind\n",
        "    is_nonzero = spike_counts>0\n",
        "    use_for_fit = np.logical_and.reduce((is_pos_slope,is_nonzero,before_peak))\n",
        "\n",
        "    if_fit = {}\n",
        "    if_fit['stim_currents'] = stim_currents\n",
        "    if_fit['spike_rates'] = spike_rates\n",
        "    if 0 == np.sum(spike_rates):\n",
        "        # print('no spikes detected')\n",
        "        if_fit['slope'] = np.nan\n",
        "        if_fit['intercept'] = np.nan\n",
        "        if_fit['R2'] = 0\n",
        "        return if_fit\n",
        "\n",
        "    if np.sum(spike_rates>0)<3:\n",
        "        # print('not enough spikes generated')\n",
        "        if_fit['slope'] = np.nan\n",
        "        if_fit['intercept'] = np.nan\n",
        "        if_fit['R2'] = 0\n",
        "        return if_fit\n",
        "\n",
        "    if_fit['slope'], if_fit['intercept'] , r_value, p_value, std_err = stats.linregress(stim_currents[use_for_fit], spike_rates[use_for_fit])\n",
        "    if_fit['R2'] = r_value**2\n",
        "\n",
        "    if to_plot:\n",
        "        fig, ax = plt.subplots(1, figsize=[3,3])\n",
        "        ax.scatter( if_fit['stim_currents'] ,if_fit['spike_rates'] )\n",
        "        ax.plot( if_fit['stim_currents'], if_fit['slope']* if_fit['stim_currents']+if_fit['intercept'])\n",
        "        ax.scatter( if_fit['stim_currents'][use_for_fit] ,if_fit['spike_rates'][use_for_fit], color='r' )\n",
        "        ax.scatter(if_fit['stim_currents'][peak_ind],if_fit['spike_rates'][peak_ind], color='m')\n",
        "        ax.set_xlabel('current')\n",
        "        ax.set_ylabel('Spike Rate (Hz)')\n",
        "        (min,max) = ax.get_ylim()\n",
        "        ax.text(0, max/2, 'R**2='+str(round(if_fit['R2'],2)),fontsize='large')\n",
        "        plt.show()\n",
        "    return if_fit\n",
        "\n",
        "def check_inactivation( time, trace, is_stim, sample_rate, dVds, inds, mean_spike_rate, to_plot=0 ):\n",
        "    time_ms = time*1000\n",
        "    sum_isi = None\n",
        "    rel_firing_duration = None\n",
        "    if len(inds)>0:\n",
        "        stim_time = time_ms[np.where(is_stim)[0][0]]\n",
        "        firing_duration = time[inds[-1]]\n",
        "        rel_firing_duration = firing_duration /(np.max(time[is_stim]*1000)-stim_time)\n",
        "    return rel_firing_duration\n"
      ],
      "metadata": {
        "id": "pRocKDYx-72D"
      },
      "execution_count": null,
      "outputs": []
    }
  ]
}
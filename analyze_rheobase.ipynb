{
  "nbformat": 4,
  "nbformat_minor": 0,
  "metadata": {
    "colab": {
      "name": "analyze_rheobase.ipynb",
      "provenance": [],
      "authorship_tag": "ABX9TyN30WTVHWm3FN+53GE0xkmI",
      "include_colab_link": true
    },
    "kernelspec": {
      "name": "python3",
      "display_name": "Python 3"
    },
    "language_info": {
      "name": "python"
    }
  },
  "cells": [
    {
      "cell_type": "markdown",
      "metadata": {
        "id": "view-in-github",
        "colab_type": "text"
      },
      "source": [
        "<a href=\"https://colab.research.google.com/github/dtabuena/EphysLib/blob/main/analyze_rheobase.ipynb\" target=\"_parent\"><img src=\"https://colab.research.google.com/assets/colab-badge.svg\" alt=\"Open In Colab\"/></a>"
      ]
    },
    {
      "cell_type": "code",
      "execution_count": null,
      "metadata": {
        "id": "ddkc0pIrwnCl"
      },
      "outputs": [],
      "source": [
        "########## Rheobase analysis ################\n",
        "'requires: numpy, pandas, matplotlib, ...'\n",
        "\n",
        "def analyze_rheo(file_name,\n",
        "                 spike_args =  {'spike_thresh':10, 'high_dv_thresh': 25,'low_dv_thresh': -5,'window_ms': 2},\n",
        "                 to_plot=False,\n",
        "                 verbose=False,\n",
        "                 single_spike=True):\n",
        "    'Analyze single abf of current injections for rheobase'\n",
        "    'single_spike: look for one and only one spike, no doublets'\n",
        "\n",
        "\n",
        "    abf = abf_or_name(file_name)\n",
        "    if to_plot: plot_sweeps_and_command(abf)\n",
        "    if len(abf.sweepList)<2:\n",
        "        return np.nan,np.nan,np.nan,np.nan,np.nan  \n",
        "    else:\n",
        "        is_base, is_stim = protocol_baseline_and_stim(abf)\n",
        "        stim_currents, spike_counts, spike_rates, V_before,_,_ = spikes_per_stim(abf, spike_args,thresh=20,to_plot=to_plot)\n",
        "        if verbose: print(spike_counts)\n",
        "        single_spikes = spike_counts==1\n",
        "        zero_spikes = spike_counts==0\n",
        "        if single_spike:\n",
        "            none_to_one = np.full(single_spikes.shape, False)\n",
        "            none_to_one[1:] = np.logical_and(single_spikes[1:], zero_spikes[:-1])\n",
        "            first_spike_stim = np.where(none_to_one)[0]\n",
        "        else:\n",
        "            some_spikes = spike_counts>0\n",
        "            none_to_some = np.full(single_spikes.shape, False)\n",
        "            none_to_some[1:] = np.logical_and(some_spikes[1:], zero_spikes[:-1])\n",
        "            first_spike_stim = np.where(none_to_some)[0]\n",
        "    if first_spike_stim.size == 0:\n",
        "        return np.nan,np.nan,np.nan,np.nan,np.nan \n",
        "    else:\n",
        "        if first_spike_stim.size >1:\n",
        "            first_spike_stim = np.min(first_spike_stim)\n",
        "        rheo = stim_currents[first_spike_stim]\n",
        "        _, _, _, QC_val_df = Iclamp_QC(file_name)\n",
        "        offset = np.mean(QC_val_df['I_leak'])\n",
        "        Vhold_spike = QC_val_df['V_hold'][first_spike_stim]\n",
        "        ap_thresh = V_before[first_spike_stim]\n",
        "        step_resolution = np.mean(np.diff(stim_currents))\n",
        "\n",
        "    return rheo, step_resolution, offset, Vhold_spike, ap_thresh \n",
        "\n",
        "def spikes_per_stim(abf,spike_args,thresh=20,mode='count', to_plot=0):\n",
        "    'Loops through sweeps of an abf to find spikes'\n",
        "    # init\n",
        "    stim_currents = []\n",
        "    spike_rates = []\n",
        "    spike_counts = []\n",
        "    v_before_spike1 = []\n",
        "    v_before_stim = []\n",
        "    fire_dur = []\n",
        "    # get sweep info\n",
        "    is_base, is_stim = protocol_baseline_and_stim(abf)\n",
        "\n",
        "    # get spike per sweep\n",
        "    for s in abf.sweepList:\n",
        "        abf.setSweep(s)\n",
        "        dVds, over_thresh, inds, mean_spike_rate = find_spike_in_trace(abf.sweepY,abf.sampleRate,spike_args,is_stim=is_stim,mode='count',to_plot=to_plot)\n",
        "        rel_firing_duration = check_inactivation( abf.sweepX, abf.sweepY, is_stim, abf.sampleRate, dVds, inds, mean_spike_rate, to_plot=0 )\n",
        "        # plot id'd spikes\n",
        "        if to_plot>1:\n",
        "            fig, axs = plt.subplots(1)\n",
        "            axs.scatter(abf.sweepX[inds],abf.sweepY[inds],color='red',zorder=2)\n",
        "            axs.plot(abf.sweepX ,abf.sweepY,zorder=1)\n",
        "            plt.show()\n",
        "        # calc multi sweep params\n",
        "        stim_level = np.median(abf.sweepC[is_stim])\n",
        "        stim_currents.append(stim_level)\n",
        "        spike_rates.append(mean_spike_rate)\n",
        "        spike_counts.append(len(inds))\n",
        "        is_prestim = np.equal(np.cumsum( np.diff(is_base,prepend=1)),0)\n",
        "        v_before_stim.append( np.mean(abf.sweepY[is_prestim] ))\n",
        "        fire_dur.append(rel_firing_duration)\n",
        "\n",
        "        if len(inds)>0:\n",
        "            v_before_spike1.append(abf.sweepY[inds[0]])\n",
        "        else:\n",
        "            v_before_spike1.append(np.nan)\n",
        "\n",
        "    return np.array(stim_currents), np.array(spike_counts), np.array(spike_rates), np.array(v_before_spike1), np.array(v_before_stim) , np.array(fire_dur)\n",
        "\n"
      ]
    }
  ]
}
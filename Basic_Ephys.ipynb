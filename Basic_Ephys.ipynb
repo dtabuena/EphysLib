{
  "nbformat": 4,
  "nbformat_minor": 0,
  "metadata": {
    "colab": {
      "name": "Basic_Ephys.ipynb",
      "provenance": [],
      "authorship_tag": "ABX9TyNm/dyEavPyk4tc6jgz6uao",
      "include_colab_link": true
    },
    "kernelspec": {
      "name": "python3",
      "display_name": "Python 3"
    },
    "language_info": {
      "name": "python"
    }
  },
  "cells": [
    {
      "cell_type": "markdown",
      "metadata": {
        "id": "view-in-github",
        "colab_type": "text"
      },
      "source": [
        "<a href=\"https://colab.research.google.com/github/dtabuena/EphysLib/blob/main/Basic_Ephys.ipynb\" target=\"_parent\"><img src=\"https://colab.research.google.com/assets/colab-badge.svg\" alt=\"Open In Colab\"/></a>"
      ]
    },
    {
      "cell_type": "code",
      "execution_count": null,
      "metadata": {
        "id": "i39jJbSbs3Y7"
      },
      "outputs": [],
      "source": [
        "def find_spike_in_trace(trace,rate,spike_args,refract=0.005,is_stim = None ,mode='count',sanity_check=True,to_plot=0):\n",
        "    'Takes in a voltage trace from current clamp mode and uses derivative (dVds) to find action potentials.'\n",
        "    'Returns the dVds trace, boolean array indicating if dVds>threshold, inicies where dV crossed threshold,'\n",
        "    'and the mean firing rate given # spikes in trace of given length. Optional ways to count are:'\n",
        "    'isi (1/interspike interval) or count (spike count per second). Default is count'\n",
        "\n",
        "    high_dv_thresh = spike_args['high_dv_thresh']\n",
        "    low_dv_thresh = spike_args['low_dv_thresh']\n",
        "    spike_thresh = spike_args['spike_thresh']\n",
        "    window_ms = spike_args['window_ms']\n",
        "\n",
        "    if any(is_stim == None):\n",
        "        is_stim = [True for i in trace]\n",
        "    dVds = np.diff(trace, prepend=trace[0])*rate/1000\n",
        "    over_thresh = dVds>spike_thresh\n",
        "    over_thresh[np.logical_not(is_stim)] = False\n",
        "    refract_window = int(np.round((refract*rate)))\n",
        "    inds = [t for t in np.arange(refract_window,len(over_thresh)) if all([over_thresh[t], all(over_thresh[t-refract_window:t]==False)])]    \n",
        "    if sanity_check:\n",
        "        old_inds = inds\n",
        "        inds = []\n",
        "        for i in old_inds:\n",
        "            samp_window = window_ms/1000 * rate\n",
        "            ind_range = np.arange(i-samp_window,i+samp_window).astype(int)\n",
        "            nearby_dVds = dVds[ind_range]\n",
        "            if False: print(i,'max', np.max(nearby_dVds))\n",
        "            if False: print(i,'min', np.min(nearby_dVds))\n",
        "            if np.max(nearby_dVds)>high_dv_thresh and np.min(nearby_dVds) < low_dv_thresh:\n",
        "                inds.append(i)\n",
        "                if False: print(inds)\n",
        "    if to_plot>2:\n",
        "        fig1, axs1 = plt.subplots(1,figsize = [9,2])\n",
        "        axs1.plot(np.arange(len(dVds))/rate,dVds,zorder=1)\n",
        "        axs1.scatter((np.arange(len(dVds))/rate)[inds],dVds[inds],color='red',zorder=2)\n",
        "        plt.show()\n",
        "    if len(inds)<1:\n",
        "        mean_spike_rate = 0\n",
        "    else:\n",
        "        if mode=='isi':\n",
        "            mean_spike_rate = np.mean(rate/np.diff(inds))\n",
        "        elif mode=='count':\n",
        "            mean_spike_rate = len(inds)/(np.sum(is_stim)/rate)\n",
        "        else:\n",
        "            print('invalid mode. using default (count)')\n",
        "    return dVds, over_thresh, inds, mean_spike_rate"
      ]
    }
  ]
}
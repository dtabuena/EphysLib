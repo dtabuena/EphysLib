{
  "nbformat": 4,
  "nbformat_minor": 0,
  "metadata": {
    "colab": {
      "provenance": [],
      "authorship_tag": "ABX9TyP7j7Hl4K0tMOf54YvkzKdd",
      "include_colab_link": true
    },
    "kernelspec": {
      "name": "python3",
      "display_name": "Python 3"
    },
    "language_info": {
      "name": "python"
    }
  },
  "cells": [
    {
      "cell_type": "markdown",
      "metadata": {
        "id": "view-in-github",
        "colab_type": "text"
      },
      "source": [
        "<a href=\"https://colab.research.google.com/github/dtabuena/EphysLib/blob/main/Sort_Abfs.ipynb\" target=\"_parent\"><img src=\"https://colab.research.google.com/assets/colab-badge.svg\" alt=\"Open In Colab\"/></a>"
      ]
    },
    {
      "cell_type": "code",
      "source": [
        "'Get Standard Modules'\n",
        "\n",
        "import pandas as pd\n",
        "import numpy as np\n",
        "import matplotlib\n",
        "import matplotlib.pyplot as plt\n",
        "import scipy\n",
        "from scipy import stats\n",
        "import os\n",
        "from scipy.signal import butter,filtfilt\n",
        "from tqdm import tqdm\n",
        "import warnings\n",
        "from IPython.display import clear_output\n",
        "from datetime import datetime\n",
        "import sys\n",
        "import warnings\n",
        "import shutil\n",
        "from google.colab import files\n",
        "warnings.filterwarnings('ignore')\n",
        "np.set_printoptions(threshold=sys.maxsize)\n",
        "clear_output(wait=False)\n",
        "\n",
        "\n",
        "\n",
        "!pip install openpyxl\n",
        "!pip install XlsxWriter\n",
        "\n",
        "\n",
        "'''Get Repositories'''\n",
        "try: shutil.rmtree('/content/EphysLib')\n",
        "except: None\n",
        "\n",
        "\"run dtabuena's ephys notebooks\"\n",
        "!git clone https://github.com/dtabuena/EphysLib\n",
        "to_import = [\n",
        "            'ABF_Quality_Control.ipynb',\n",
        "            'Basic_Ephys.ipynb',\n",
        "            'Simple_ABF_tools.ipynb',\n",
        "            'fun_math.ipynb',\n",
        "            'importing_abfs_from_dropbox.ipynb',\n",
        "            'QC_recoding_dataframe.ipynb',\n",
        "            'Analyzers/input_resistance_analyzer.ipynb',\n",
        "            'Analyzers/gain_analyzer.ipynb',\n",
        "            'Analyzers/latencey_analyzer.ipynb',\n",
        "            'Analyzers/IV_analyzer.ipynb',\n",
        "            'Analyzers/Vm_analyzer.ipynb',\n",
        "            'Analyzers/membrane_analyzer.ipynb',\n",
        "            'Analyzers/rheobase_analyzer.ipynb',\n",
        "            ]\n",
        "for i in to_import:\n",
        "    f = '/content/EphysLib/' + i\n",
        "    %run $f\n",
        "\n",
        "\n",
        "try: shutil.rmtree('/content/CrispyMice')\n",
        "except: None\n",
        "!git clone https://github.com/dtabuena/CrispyMice\n",
        "to_import = ['CrispyPipelineFuncs.ipynb']\n",
        "for i in to_import:\n",
        "    f = '/content/CrispyMice/' + i\n",
        "    %run $f\n"
      ],
      "metadata": {
        "colab": {
          "base_uri": "https://localhost:8080/"
        },
        "id": "pn_jPmU2aR-0",
        "outputId": "f8806fe1-6db3-4bac-d688-b8fba4b376d4"
      },
      "execution_count": 8,
      "outputs": [
        {
          "output_type": "stream",
          "name": "stdout",
          "text": [
            "Looking in indexes: https://pypi.org/simple, https://us-python.pkg.dev/colab-wheels/public/simple/\n",
            "Requirement already satisfied: openpyxl in /usr/local/lib/python3.8/dist-packages (3.0.10)\n",
            "Requirement already satisfied: et-xmlfile in /usr/local/lib/python3.8/dist-packages (from openpyxl) (1.1.0)\n",
            "Looking in indexes: https://pypi.org/simple, https://us-python.pkg.dev/colab-wheels/public/simple/\n",
            "Requirement already satisfied: XlsxWriter in /usr/local/lib/python3.8/dist-packages (3.0.3)\n",
            "Cloning into 'EphysLib'...\n",
            "remote: Enumerating objects: 589, done.\u001b[K\n",
            "remote: Counting objects: 100% (282/282), done.\u001b[K\n",
            "remote: Compressing objects: 100% (157/157), done.\u001b[K\n",
            "remote: Total 589 (delta 199), reused 170 (delta 125), pack-reused 307\u001b[K\n",
            "Receiving objects: 100% (589/589), 14.25 MiB | 12.67 MiB/s, done.\n",
            "Resolving deltas: 100% (373/373), done.\n",
            "Looking in indexes: https://pypi.org/simple, https://us-python.pkg.dev/colab-wheels/public/simple/\n",
            "Requirement already satisfied: pyabf in /usr/local/lib/python3.8/dist-packages (2.3.7)\n",
            "Requirement already satisfied: numpy>=1.13.3 in /usr/local/lib/python3.8/dist-packages (from pyabf) (1.21.6)\n",
            "Requirement already satisfied: matplotlib>=2.1.0 in /usr/local/lib/python3.8/dist-packages (from pyabf) (3.2.2)\n",
            "Requirement already satisfied: pytest>=3.0.7 in /usr/local/lib/python3.8/dist-packages (from pyabf) (3.6.4)\n",
            "Requirement already satisfied: cycler>=0.10 in /usr/local/lib/python3.8/dist-packages (from matplotlib>=2.1.0->pyabf) (0.11.0)\n",
            "Requirement already satisfied: python-dateutil>=2.1 in /usr/local/lib/python3.8/dist-packages (from matplotlib>=2.1.0->pyabf) (2.8.2)\n",
            "Requirement already satisfied: pyparsing!=2.0.4,!=2.1.2,!=2.1.6,>=2.0.1 in /usr/local/lib/python3.8/dist-packages (from matplotlib>=2.1.0->pyabf) (3.0.9)\n",
            "Requirement already satisfied: kiwisolver>=1.0.1 in /usr/local/lib/python3.8/dist-packages (from matplotlib>=2.1.0->pyabf) (1.4.4)\n",
            "Requirement already satisfied: pluggy<0.8,>=0.5 in /usr/local/lib/python3.8/dist-packages (from pytest>=3.0.7->pyabf) (0.7.1)\n",
            "Requirement already satisfied: py>=1.5.0 in /usr/local/lib/python3.8/dist-packages (from pytest>=3.0.7->pyabf) (1.11.0)\n",
            "Requirement already satisfied: attrs>=17.4.0 in /usr/local/lib/python3.8/dist-packages (from pytest>=3.0.7->pyabf) (22.1.0)\n",
            "Requirement already satisfied: atomicwrites>=1.0 in /usr/local/lib/python3.8/dist-packages (from pytest>=3.0.7->pyabf) (1.4.1)\n",
            "Requirement already satisfied: more-itertools>=4.0.0 in /usr/local/lib/python3.8/dist-packages (from pytest>=3.0.7->pyabf) (9.0.0)\n",
            "Requirement already satisfied: six>=1.10.0 in /usr/local/lib/python3.8/dist-packages (from pytest>=3.0.7->pyabf) (1.15.0)\n",
            "Requirement already satisfied: setuptools in /usr/local/lib/python3.8/dist-packages (from pytest>=3.0.7->pyabf) (57.4.0)\n",
            "Cloning into 'CrispyMice'...\n",
            "remote: Enumerating objects: 260, done.\u001b[K\n",
            "remote: Counting objects: 100% (153/153), done.\u001b[K\n",
            "remote: Compressing objects: 100% (128/128), done.\u001b[K\n",
            "remote: Total 260 (delta 106), reused 25 (delta 25), pack-reused 107\u001b[K\n",
            "Receiving objects: 100% (260/260), 41.89 MiB | 9.10 MiB/s, done.\n",
            "Resolving deltas: 100% (135/135), done.\n"
          ]
        }
      ]
    },
    {
      "cell_type": "code",
      "execution_count": 9,
      "metadata": {
        "id": "92HbeMjIaF8Z"
      },
      "outputs": [],
      "source": [
        "def reorg_abfs(new_dir='reorg', local_abf_dir='/content/my_ephys_data'): #look_up_file, \n",
        "    # rootdir = '/content/my_ephys_data_Fast_Data'\n",
        "    # new_dir = 'reorg'\n",
        "    # lut_df = pd.read_csv('/content/Fast_Data_Recording_LookUp.csv')\n",
        "    try: shutil.rmtree('/content/'+new_dir)\n",
        "    except: None\n",
        "    os.mkdir('/content/'+new_dir)\n",
        "    for subdir, dirs, fils in os.walk(local_abf_dir):\n",
        "        for file in fils:\n",
        "            if '.abf' in file:\n",
        "                full_path = (os.path.join(subdir, file))\n",
        "                abf_file = abf_or_name(full_path)\n",
        "                prot_name = abf_file.protocol\n",
        "                new_prot_dir = new_dir+'/'+prot_name\n",
        "                try: os.mkdir('/content/'+new_prot_dir)\n",
        "                except: None\n",
        "                shutil.copyfile(full_path, new_prot_dir+'/'+file)\n",
        "    shutil.make_archive(new_dir, 'zip', new_dir)\n",
        "    from google.colab import files\n",
        "    files.download(new_dir+'.zip')\n",
        "    return None\n"
      ]
    },
    {
      "cell_type": "code",
      "source": [
        "dataset = {'data_name': 'RNF182',\n",
        "           'data_source': \"https://www.dropbox.com/sh/n9t8p257wnzlijk/AAC9Z36JodisyZjnM3mkJC3Xa?dl=0\",\n",
        "           'file_naming_scheme': ['Rec_date','Virus','GenoType','Sex','Age','Slice_Num','Cell_num','Cell_Type'],\n",
        "           }\n",
        "file_loc = get_drobox_folder(dataset['data_source'], 'my_ephys_data_' + dataset['data_name'])\n",
        "reorg_abfs(new_dir=dataset['data_name']+'_reorg', local_abf_dir=file_loc)\n",
        "\n",
        "\n",
        "dataset = {'data_name': 'MGDA2',\n",
        "           'data_source': \"https://www.dropbox.com/sh/bj5ke9c1pqwpsct/AACqznMXzJj7epVBVDaSifnma?dl=0\",\n",
        "           'file_naming_scheme': ['Rec_date','Virus','GenoType','Sex','Age','Slice_Num','Cell_num','Cell_Type'],\n",
        "           }\n",
        "file_loc = get_drobox_folder(dataset['data_source'], 'my_ephys_data_' + dataset['data_name'])\n",
        "reorg_abfs(new_dir=dataset['data_name']+'_reorg', local_abf_dir=file_loc)\n",
        "\n",
        "\n",
        "dataset = {'data_name': 'NELL2',\n",
        "           'data_source': \"https://www.dropbox.com/sh/a3vrgx8n2lvs53w/AAAVi1gSXYaP3gY4PmvWlRbAa?dl=0\",\n",
        "           'file_naming_scheme': ['Rec_date','Virus','GenoType','Sex','Age','Slice_Num','Cell_num','Cell_Type'],\n",
        "           }\n",
        "file_loc = get_drobox_folder(dataset['data_source'], 'my_ephys_data_' + dataset['data_name'])\n",
        "reorg_abfs(new_dir=dataset['data_name']+'_reorg', local_abf_dir=file_loc)"
      ],
      "metadata": {
        "id": "uTd9rE5lcqTs"
      },
      "execution_count": null,
      "outputs": []
    },
    {
      "cell_type": "code",
      "source": [
        "# def reorg_abfs(new_dir='reorg', local_abf_dir='/content/my_ephys_data'): #look_up_file, \n",
        "#     # rootdir = '/content/my_ephys_data_Fast_Data'\n",
        "#     # new_dir = 'reorg'\n",
        "#     # lut_df = pd.read_csv('/content/Fast_Data_Recording_LookUp.csv')\n",
        "#     try: shutil.rmtree('/content/'+new_dir)\n",
        "#     except: None\n",
        "#     os.mkdir('/content/'+new_dir)\n",
        "#     for subdir, dirs, fils in os.walk(local_abf_dir):\n",
        "#         for file in fils:\n",
        "#             if '.abf' in file:\n",
        "#                 full_path = (os.path.join(subdir, file))\n",
        "#                 abf_file = abf_or_name(full_path)\n",
        "#                 prot_name = abf_file.protocol\n",
        "#                 new_prot_dir = new_dir+'/'+prot_name\n",
        "#                 try: os.mkdir('/content/'+new_prot_dir)\n",
        "#                 except: None\n",
        "#                 shutil.copyfile(full_path, new_prot_dir+'/'+file)\n",
        "#     shutil.make_archive(new_dir, 'zip', new_dir)\n",
        "#     from google.colab import files\n",
        "#     files.download(new_dir+'.zip')\n",
        "#     return None\n",
        "\n",
        "\n",
        "# data_source = dataset['data_source']\n",
        "# data_name = dataset['data_name']\n",
        "# file_naming_scheme = dataset['file_naming_scheme']\n",
        "# results = {}\n",
        "# reorg_abfs(new_dir=data_name+'_reorg', local_abf_dir=file_loc)\n",
        "\n"
      ],
      "metadata": {
        "id": "TbCZv5XZaVIb"
      },
      "execution_count": 11,
      "outputs": []
    }
  ]
}